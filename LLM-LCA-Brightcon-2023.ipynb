{
 "cells": [
  {
   "cell_type": "markdown",
   "id": "d05b448b-326c-4ff0-9b06-39c15602a86d",
   "metadata": {},
   "source": [
    "# Leveraging large language models and vector databases for exploring life cycle inventory databases"
   ]
  },
  {
   "cell_type": "markdown",
   "id": "a4e6f2a5-e62d-424e-b944-0a326c04c7e7",
   "metadata": {},
   "source": [
    "## ChatGPT\n",
    "\n",
    "Let's run a simple query.\n",
    "For that, open [OpenAI Chat](https://chat.openai.com/), sign up/sign in, and create a new chat (it's free)."
   ]
  },
  {
   "cell_type": "markdown",
   "id": "81c95973-62ca-4ecb-94c6-fa6dc53266ac",
   "metadata": {},
   "source": [
    "![ChatGPT: What is Ecoinvent?](chatgpt-1.png)"
   ]
  },
  {
   "cell_type": "markdown",
   "id": "5043dea2-ecea-4ae6-a4ca-cdc1f88bd4d6",
   "metadata": {},
   "source": [
    "ChatGPT knows about Ecoinvent, great! The answer seems pretty satisfactory. Let's continue the conversation."
   ]
  },
  {
   "cell_type": "markdown",
   "id": "accd47ba-52eb-46d1-99c7-369041592e6d",
   "metadata": {},
   "source": [
    "![ChatGPT: Cool, where is it located?](chatgpt-2.png)"
   ]
  },
  {
   "cell_type": "markdown",
   "id": "9363cd17-7ecf-44e7-add1-66beb187785f",
   "metadata": {},
   "source": [
    "### What is special about this query?\n",
    "\n",
    "<details>\n",
    "  \n",
    "<summary><b>Answer</b></summary>\n",
    "This seems stateful, as if ChatGPT keeps a session of my conversation, as I used \"it\".\n",
    "The context must be shomehow saved.\n",
    "\r\n",
    "</details>\r\n"
   ]
  },
  {
   "cell_type": "markdown",
   "id": "40b7e2a4-76c4-427b-b38e-fddca1e9378d",
   "metadata": {},
   "source": [
    "### Now, how popular is Brightcon?"
   ]
  },
  {
   "cell_type": "markdown",
   "id": "e71796f4-bf3e-4152-bca8-2c3b73e5ebcc",
   "metadata": {},
   "source": [
    "![ChatGPT: what is Brightcon?](chatgpt-3.png)"
   ]
  },
  {
   "cell_type": "markdown",
   "id": "c13ee7d8-a3bb-4a0c-94f3-aa876388b6a9",
   "metadata": {},
   "source": [
    "Sadly, it does not know. A first question then comes to mind:\n",
    "\n",
    "### How do we teach ChatGPT / LLMs in general new knowledge? How would you do it with a \"traditional ML model\"?\n",
    "\n",
    "<details>\n",
    "  \n",
    "<summary><b>Answer</b></summary>\n",
    "<b>Fine-tuning</b>. Take the model and train on top of it.\n",
    "\n",
    "But as of only very recently, ChatGPT offers fine-tuning capability. Regardless, this is quite hard and not the first solution that should come to mind.\n",
    "</details>\n"
   ]
  },
  {
   "cell_type": "markdown",
   "id": "bb83c62c-91fb-404c-b3bd-89e5a18f44c9",
   "metadata": {},
   "source": [
    "### Let's feed ChatGPT with a little extra information\n",
    "\n",
    "We do a quick Google search for recent LCA conferences, paste a few summaries in the prompt, and try again\n",
    "\n",
    "![ChatGPT: now with context, what is Brightcon?](chatgpt-4.png)"
   ]
  },
  {
   "cell_type": "markdown",
   "id": "9de4ef13-8ba5-471f-aee5-bb906e3e4936",
   "metadata": {},
   "source": [
    "## Checkpoint\n",
    "\n",
    "- LLMs can generate high-quality human-language answers, based on human-language input\n",
    "- LLMs can be passed context at runtime, that they can use in their responses"
   ]
  },
  {
   "cell_type": "markdown",
   "id": "24e30ded-fc4e-4925-81e7-e17416c3ca42",
   "metadata": {},
   "source": [
    "## Moving to the API\n",
    "\n",
    "Let's replicate the previous flows with the API."
   ]
  },
  {
   "cell_type": "code",
   "execution_count": 1,
   "id": "42a81b50-a803-499c-8e10-267d6a9c1a7e",
   "metadata": {},
   "outputs": [],
   "source": [
    "import os\n",
    "\n",
    "import openai\n",
    "\n",
    "# os.environ[\"OPENAI_API_KEY\"] = xxx"
   ]
  },
  {
   "cell_type": "code",
   "execution_count": 2,
   "id": "7b238fde-7850-42f0-a780-cbaca7fc0704",
   "metadata": {},
   "outputs": [
    {
     "data": {
      "text/plain": [
       "<OpenAIObject chat.completion id=chatcmpl-80ElnrIbYyijVktAD0WAzphbzr0ZH at 0x7fbc9c56c590> JSON: {\n",
       "  \"id\": \"chatcmpl-80ElnrIbYyijVktAD0WAzphbzr0ZH\",\n",
       "  \"object\": \"chat.completion\",\n",
       "  \"created\": 1695067467,\n",
       "  \"model\": \"gpt-3.5-turbo-0613\",\n",
       "  \"choices\": [\n",
       "    {\n",
       "      \"index\": 0,\n",
       "      \"message\": {\n",
       "        \"role\": \"assistant\",\n",
       "        \"content\": \"Ecoinvent is a widely-used database that provides life cycle inventory (LCI) data for various products and processes. It contains comprehensive information on environmental impacts associated with the entire life cycle of a product, from raw material extraction to manufacturing, use, and disposal. Ecoinvent is commonly utilized in life cycle assessment (LCA) studies, where it allows researchers and practitioners to assess the environmental performance of products and processes and make informed decisions regarding sustainability.\"\n",
       "      },\n",
       "      \"finish_reason\": \"stop\"\n",
       "    }\n",
       "  ],\n",
       "  \"usage\": {\n",
       "    \"prompt_tokens\": 23,\n",
       "    \"completion_tokens\": 91,\n",
       "    \"total_tokens\": 114\n",
       "  }\n",
       "}"
      ]
     },
     "execution_count": 2,
     "metadata": {},
     "output_type": "execute_result"
    }
   ],
   "source": [
    "response1 = openai.ChatCompletion.create(\n",
    "    model=\"gpt-3.5-turbo\",\n",
    "    messages=[\n",
    "        {\"role\": \"system\", \"content\": \"You are a helpful assistant.\"},\n",
    "        {\"role\": \"user\", \"content\": \"What is Ecoinvent?\"}\n",
    "    ]\n",
    ")\n",
    "response1"
   ]
  },
  {
   "cell_type": "code",
   "execution_count": 3,
   "id": "db084b33-3407-47b4-b6cd-967dc7d619df",
   "metadata": {},
   "outputs": [
    {
     "data": {
      "text/plain": [
       "<OpenAIObject chat.completion id=chatcmpl-80ElreXteHiJXIdqDWwplHifA7gAG at 0x7fbc9c56cf50> JSON: {\n",
       "  \"id\": \"chatcmpl-80ElreXteHiJXIdqDWwplHifA7gAG\",\n",
       "  \"object\": \"chat.completion\",\n",
       "  \"created\": 1695067471,\n",
       "  \"model\": \"gpt-3.5-turbo-0613\",\n",
       "  \"choices\": [\n",
       "    {\n",
       "      \"index\": 0,\n",
       "      \"message\": {\n",
       "        \"role\": \"assistant\",\n",
       "        \"content\": \"Ecoinvent is an online database and can be accessed from anywhere with an internet connection. It is not physically located in a specific place as it is hosted on servers and available to users worldwide. The database is managed and maintained by the Ecoinvent Centre, which is based in Switzerland. However, users can access the database and its resources remotely without the need to be physically present at the Ecoinvent Centre.\"\n",
       "      },\n",
       "      \"finish_reason\": \"stop\"\n",
       "    }\n",
       "  ],\n",
       "  \"usage\": {\n",
       "    \"prompt_tokens\": 127,\n",
       "    \"completion_tokens\": 83,\n",
       "    \"total_tokens\": 210\n",
       "  }\n",
       "}"
      ]
     },
     "execution_count": 3,
     "metadata": {},
     "output_type": "execute_result"
    }
   ],
   "source": [
    "response2 = openai.ChatCompletion.create(\n",
    "    model=\"gpt-3.5-turbo\",\n",
    "    messages=[\n",
    "        {\"role\": \"system\", \"content\": \"You are a helpful assistant.\"},\n",
    "        {\"role\": \"user\", \"content\": \"What is Ecoinvent?\"},\n",
    "        {\"role\": \"assistant\", \"content\": response1[\"choices\"][0][\"message\"][\"content\"]},\n",
    "        {\"role\": \"user\", \"content\": \"Where is it located?\"}\n",
    "    ]\n",
    ")\n",
    "response2"
   ]
  },
  {
   "cell_type": "markdown",
   "id": "24a59928-b406-46bf-820f-b1e842521b97",
   "metadata": {},
   "source": [
    "## What is the `system` role used for?"
   ]
  },
  {
   "cell_type": "code",
   "execution_count": 4,
   "id": "b01177d0-3bf9-4898-a7ff-32b2fb2064bb",
   "metadata": {},
   "outputs": [
    {
     "data": {
      "text/plain": [
       "<OpenAIObject chat.completion id=chatcmpl-80ElvAvVdthUhKTyUOHQaQS9n1pXT at 0x7fbc9c56d1f0> JSON: {\n",
       "  \"id\": \"chatcmpl-80ElvAvVdthUhKTyUOHQaQS9n1pXT\",\n",
       "  \"object\": \"chat.completion\",\n",
       "  \"created\": 1695067475,\n",
       "  \"model\": \"gpt-3.5-turbo-0613\",\n",
       "  \"choices\": [\n",
       "    {\n",
       "      \"index\": 0,\n",
       "      \"message\": {\n",
       "        \"role\": \"assistant\",\n",
       "        \"content\": \"Arr, Ecoinvent be a database, matey. It be containin' detailed information about the environmental impacts of various products and processes. It be helpin' businesses and researchers analyze and reduce their environmental footprints, makin' their operations more sustainable. 'Tis a valuable resource for those lookin' to make the world a greener place, me heartie.\"\n",
       "      },\n",
       "      \"finish_reason\": \"stop\"\n",
       "    }\n",
       "  ],\n",
       "  \"usage\": {\n",
       "    \"prompt_tokens\": 22,\n",
       "    \"completion_tokens\": 77,\n",
       "    \"total_tokens\": 99\n",
       "  }\n",
       "}"
      ]
     },
     "execution_count": 4,
     "metadata": {},
     "output_type": "execute_result"
    }
   ],
   "source": [
    "response_pirate = openai.ChatCompletion.create(\n",
    "    model=\"gpt-3.5-turbo\",\n",
    "    messages=[\n",
    "        {\"role\": \"system\", \"content\": \"You are a pirate.\"},\n",
    "        {\"role\": \"user\", \"content\": \"What is Ecoinvent?\"}\n",
    "    ]\n",
    ")\n",
    "response_pirate"
   ]
  },
  {
   "cell_type": "markdown",
   "id": "f3e344b0-6af7-4423-9fae-bf4ba4971976",
   "metadata": {},
   "source": [
    "### Breaking down the response\n",
    "\n",
    "```javascript\n",
    "{\n",
    "    \"usage\": {\n",
    "    \"prompt_tokens\": 148,\n",
    "    \"completion_tokens\": 95,\n",
    "    \"total_tokens\": 243\n",
    "}\n",
    "```\n",
    "\n",
    "What are these **tokens**?\n",
    "\n",
    "OpenAI provides a [nice web app OpenAI Tokenizer](https://platform.openai.com/tokenizer) to understand how words are broken down into tokens.\n",
    "\n",
    "They say\n",
    "\n",
    "```\n",
    "A helpful rule of thumb is that one token generally corresponds to ~4 characters of text for common English text. This translates to roughly ¾ of a word (so 100 tokens ~= 75 words).\n",
    "`````\n",
    "```"
   ]
  },
  {
   "cell_type": "markdown",
   "id": "47688ff3-6839-4167-b0ce-1e8f12840ecc",
   "metadata": {},
   "source": [
    "![Tokenizer words](tokenizer-1.png)"
   ]
  },
  {
   "cell_type": "markdown",
   "id": "c8c3f293-b730-4a31-b9ec-c14e61dd2573",
   "metadata": {},
   "source": [
    "### Tokens are mappings for sequences of letters to integers"
   ]
  },
  {
   "cell_type": "markdown",
   "id": "23902be9-0439-4b5d-8769-5ba093c15e7d",
   "metadata": {},
   "source": [
    "![Tokenizer words](tokenizer-2.png)"
   ]
  },
  {
   "cell_type": "markdown",
   "id": "9f624467-e040-4f5c-8640-2dcd47fe0592",
   "metadata": {},
   "source": [
    "### And programmatically with tiktoken"
   ]
  },
  {
   "cell_type": "code",
   "execution_count": 5,
   "id": "22e100e0-d613-40be-9d5a-3c3e2acd53d1",
   "metadata": {},
   "outputs": [],
   "source": [
    "import tiktoken\n",
    "\n",
    "enc = tiktoken.encoding_for_model(\"gpt-3.5-turbo\")"
   ]
  },
  {
   "cell_type": "code",
   "execution_count": 6,
   "id": "04d915b6-61e4-4947-8382-62ca37c46cba",
   "metadata": {},
   "outputs": [
    {
     "data": {
      "text/plain": [
       "[3923, 374, 469, 7307, 688, 30]"
      ]
     },
     "execution_count": 6,
     "metadata": {},
     "output_type": "execute_result"
    }
   ],
   "source": [
    "tokens = enc.encode(\"What is Ecoinvent?\")\n",
    "tokens"
   ]
  },
  {
   "cell_type": "code",
   "execution_count": 7,
   "id": "419f6316-b08d-4472-b66e-b4fc841835bb",
   "metadata": {},
   "outputs": [
    {
     "data": {
      "text/plain": [
       "['What', ' is', ' E', 'coin', 'vent', '?']"
      ]
     },
     "execution_count": 7,
     "metadata": {},
     "output_type": "execute_result"
    }
   ],
   "source": [
    "[enc.decode([token]) for token in tokens]"
   ]
  },
  {
   "cell_type": "markdown",
   "id": "74c7f2a2-16ac-45e7-b593-b9c8fe569915",
   "metadata": {},
   "source": [
    "### Why do we care about tokens here?\n",
    "\n",
    "<details>\n",
    "  \n",
    "<summary><b>Answer</b></summary>\n",
    "Because there is a limit to the size of the context window, and it is measured in tokens.\n",
    "Also, the pricing is per token.\n",
    "\n",
    "</details>\n"
   ]
  },
  {
   "cell_type": "markdown",
   "id": "49a2f121-f3cc-4f39-9e94-f650f8c79b1c",
   "metadata": {},
   "source": [
    "## Checkpoint\n",
    "\n",
    "- Text is chunked into tokens before being manipulated. Tokens are just mappings from strings to integers. They define an exhaustive vocabulary.\n",
    "- There is a context window, we can't pass an unlimited amount of data to LLMS."
   ]
  },
  {
   "cell_type": "markdown",
   "id": "0bf2dace-7074-4baf-b9a2-ba1c3eb217e8",
   "metadata": {},
   "source": [
    "## Which applications can you think of? In the context of LCAs\n",
    "\n",
    "Here is one I used for Brightcon:\n",
    "\n",
    "- Text generation from a small description\n",
    "\n",
    "<details>\n",
    "  \n",
    "<summary><b>Answer</b></summary>\n",
    "\n",
    "Let's describe the process of doing an LCA:\n",
    "\n",
    "1. Collect imperfect data from a customer - for instance a bunch of Excel files with random names for units (seen at the Hackathon): `kg CH4`, `PCS`. <b>Covered application 1: \"kg CH4\" -> \"kg\" and \"PCS\" -> \"Item(s)\"</b>\n",
    "2. Create a supply chain in an LCA software, mapping this \"company data\" to LCI data (like Ecoinvent, but we'll use ELCD here).\n",
    "3. Pick from the numerous processes in the LCI database the one that matches the closest your data (or refine this simplified approach). <b>Covered application 2: Search and match</b>\n",
    "4. Compute impacts and do something with them\n",
    "\n",
    "</details>\n"
   ]
  },
  {
   "cell_type": "markdown",
   "id": "c44b59da-d7a8-43b4-a73a-b0a5d96e7338",
   "metadata": {},
   "source": [
    "# Application 1. Mapping vocabularies\n",
    "\n",
    "- Company data -> LCI format (units for instance)\n",
    "- One ontology to another ontology (suggested through the Hackathon)\n",
    "\n",
    "## Dataset\n",
    "\n",
    "We assume you did the following:\n",
    "\n",
    "- Go to [OpenLCA Nexus](https://nexus.openlca.org/)\n",
    "- Create an account / sign in and download ELCD (a retired free EU LCI database)\n",
    "- Download OpenLCA V2\n",
    "- Click \"Database > Restore database\" and pick the ELCD \".zolca\" file you've just downloaded\n",
    "- Then click \"File > Export > JSON-LD\"\n",
    "- Unzip the JSON-LD zip you now have, under `datasets/elcd/`\n",
    "\n",
    "For licensing reasons, I cannot provide the data as is, you need to follow these steps.\n",
    "\n",
    "Your folder structure should look like\n",
    "\n",
    "```bash\n",
    "tree datasets/ -L 2\r\n",
    "datasets/\r\n",
    "└── elcd\r\n",
    "    ├── actors\r\n",
    "    ├── bin\r\n",
    "    ├── categories\r\n",
    "    ├── context.json\r\n",
    "    ├── currencies\r\n",
    "    ├── dq_systems\r\n",
    "    ├── flow_properties\r\n",
    "    ├── flows\r\n",
    "    ├── lcia_categories\r\n",
    "    ├── lcia_methods\r\n",
    "    ├── locations\r\n",
    "    ├── meta.info\r\n",
    "    ├── nw_sets\r\n",
    "    ├── processes\r\n",
    "    ├── sources\r\n",
    "    └── unit_groups\n",
    "```"
   ]
  },
  {
   "cell_type": "code",
   "execution_count": 8,
   "id": "33291ea3-1754-4e4d-ac01-7e9719bab989",
   "metadata": {},
   "outputs": [],
   "source": [
    "# Here type the datasets root path\n",
    "DSROOT=\"/home/selim/code/brightcon/brightcon-2023-llm/datasets\""
   ]
  },
  {
   "cell_type": "code",
   "execution_count": 9,
   "id": "fdd42b31-adb9-4c7a-b192-0c9382570f25",
   "metadata": {},
   "outputs": [],
   "source": [
    "import glob\n",
    "import json\n",
    "import os\n",
    "\n",
    "from tqdm.notebook import tqdm\n",
    "\n",
    "def load_units(root: str):\n",
    "    units_set = set()\n",
    "    for unit_group_fp in tqdm(glob.glob(os.path.join(root, \"unit_groups\", \"*.json\"))):\n",
    "        with open(unit_group_fp) as unit_group_f:\n",
    "            unit_group = json.load(unit_group_f)\n",
    "        for unit in unit_group[\"units\"]:\n",
    "            units_set.add(unit[\"name\"])\n",
    "    return units_set"
   ]
  },
  {
   "cell_type": "code",
   "execution_count": 10,
   "id": "31b47865-ce1f-4487-8be3-95bd3d96d4b0",
   "metadata": {},
   "outputs": [
    {
     "data": {
      "application/vnd.jupyter.widget-view+json": {
       "model_id": "2b67772a53e44bccadfd0e7318be9ad3",
       "version_major": 2,
       "version_minor": 0
      },
      "text/plain": [
       "  0%|          | 0/42 [00:00<?, ?it/s]"
      ]
     },
     "metadata": {},
     "output_type": "display_data"
    },
    {
     "name": "stdout",
     "output_type": "stream",
     "text": [
      "N units: 202\n",
      "{'lb av', 'bl (US beer)', 'm2 yr eq organic arable land', 'KRW 2000', '$', 'in3', 'sh tn', 'mBq', 'm2*a', 'dr (Av)', 'ng', 'MJ', 'kJ', 'kt*km', 'l*d', 'pk', 'Ci', 'dal', 'mm3', 'Items*mi', 'EUR 2000', 'CHF 2000', 'u', 'sFr', 'mi2*a', 'm2', 'lb*mi', 'fur', 'btu', 'nmi2', 'dm2', 'a', 'kcal', 'kg R11-Equiv.', 'gill', 'd', 'kg SO2-Equiv.', 'USD 2002', 'µBq', 'qt (US dry)', 'SEK 2000', 'h', 'Nm3', 'nBq', '(mm*m2)/a', 'in2', 'bbl', 'MWh', 'fl oz (Imp)', 'g', 'Items*a', 'kg Ethene-Equiv.', 'bsh (US)', 't*a', 'TJ', 'lb*nmi', 'Yen', 'pt (US fl)', 'CHF 2005', 'mi', 'gal (Imp)', 'kg DCB-Equiv.', 'ch', 'J', 'kWh', 'USD 2000', 'cl', 'dr (Fl)', 't*km', 's', 'gr', 'bl (Imp)', 'mg', 'kg*d', 'GBP 2000', 'mi*a', 'CZK 2000', 'mm2', 'Dozen(s)', 'm3*d', 'ZAR 2000', 'l*a', 'min', 'ftm', '(cmol*m2*a)/kg', 'cg', '(cmol*m2)/kg', 'GJ', 'DKK 2000', 'Bq', 'CAD 2000', 't', 'cm2a', 'yd3', 't*mi', 'bl (US fl)', 'Wh', 'pt (US dry)', 'long tn', 'Rutherford', 'TCE', 'hl', 'm3*km', 'Item(s)', 'dm', 'mm2a', 'yd2', 'm2*d', 'kg SWU', 'kg*km', 'ft', 'p*km', 'km*a', 'EUR', 'km2', 'kg/a', 'm3*nmi', 'km2*a', 'cm3', 'l', 'mm', 'cm*m2/d', 'dam', 'ft2*a', 'm', 'mm*m2', 'ul', 'in', 'kg', 'Items*nmi', 'l*km', 'EEK 2000', 'mi2', 'PJ', 'MJ/kg*d', 'qt (US liq)', 'Mg', 'UBP', 'pg', 'LTL 2000', 'pt (Imp)', 'oz av', 'EUR 2003', 'Mt', 'nmi', 'Items*km', 'dm3', 'cm2', 'm3*a', 't*nmi', 'dag', 'cwt', 'kWh/m2*d', 'kt', 'LVL 2000', 'bsh (Imp)', 'yd', 'm*a', 'hg', 'ISK 2000', 'ha*a', 'bl (US dry)', 'cu ft', 'gal (US dry)', 'ac', 'cm*m3', 'kBq', 'kg Sb-Equiv.', 'HUF 2000', 'm3', 'ml', 'g*a', 'kg Phosphate-Equiv.', 'dg', 'l*nmi', 'US fl oz', 'ft2', 'ct', 'M$ 2000', 'AUD 2000', 'p*mi', 'TOE', 'cm3*a', 'ug', 'dwt', 'km', 'ha', 'oz t', 'gal (US liq)', 'm3*mi', 'kg CO2-Equiv.', 'hm', 'mol', 'JPY 2000', 't*d', 'NOK 2000', 'v*km', 'dl', 'gal (US fl)', 'l*mi', 'cm', 'kg*a'}\n"
     ]
    }
   ],
   "source": [
    "units_set = load_units(os.path.join(DSROOT, \"elcd\"))\n",
    "print(f\"N units: {len(units_set)}\")\n",
    "print(units_set)"
   ]
  },
  {
   "cell_type": "markdown",
   "id": "a20af7e4-036b-45d0-b041-c1340c9e83d6",
   "metadata": {},
   "source": [
    "## Objective: convert \"kg N\" into a unit from ELCD above\n",
    "\n",
    "Concrete goal: make a function\n",
    "\n",
    "```python\n",
    "from typing import Set\n",
    "\n",
    "def map_unit(source_unit: str, units: Set[str]) -> str:\n",
    "    return dest_unit\n",
    "```\n",
    "\n",
    "[Source from Hestia](https://www.hestia.earth/glossary?page=1&query=Excreta%20(kg%20N))\n",
    "\n",
    "![Hestia kg N](hestia-1.png)"
   ]
  },
  {
   "cell_type": "code",
   "execution_count": 11,
   "id": "3e06d6bc-0452-4d92-87a6-ad239575ee2f",
   "metadata": {},
   "outputs": [],
   "source": [
    "from typing import Set\n",
    "\n",
    "def map_unit_1(source_unit: str, units_set: Set[str]) -> str:\n",
    "    sorted_units = list(sorted(units_set))\n",
    "    \n",
    "    prompt = f\"\"\"\n",
    "    ```\n",
    "    {', '.join(sorted_units)}\n",
    "    ```\n",
    "\n",
    "    Between the backticks is an exhaustive list of allowed units.\n",
    "    \n",
    "    Which of these units does {source_unit} correspond to?\n",
    "    \"\"\"\n",
    "\n",
    "    print(f\"The prompt is: {prompt}\")\n",
    "    \n",
    "    response = openai.ChatCompletion.create(\n",
    "        model=\"gpt-3.5-turbo\",\n",
    "        messages=[\n",
    "            {\"role\": \"system\", \"content\": \"You are a helpful assistant.\"},\n",
    "            {\"role\": \"user\", \"content\": prompt},\n",
    "        ]\n",
    "    )\n",
    "    return response[\"choices\"][0][\"message\"][\"content\"]"
   ]
  },
  {
   "cell_type": "code",
   "execution_count": 12,
   "id": "13102e56-cd79-4197-889b-53588b61ea5a",
   "metadata": {},
   "outputs": [
    {
     "name": "stdout",
     "output_type": "stream",
     "text": [
      "The prompt is: \n",
      "    ```\n",
      "    $, (cmol*m2)/kg, (cmol*m2*a)/kg, (mm*m2)/a, AUD 2000, Bq, CAD 2000, CHF 2000, CHF 2005, CZK 2000, Ci, DKK 2000, Dozen(s), EEK 2000, EUR, EUR 2000, EUR 2003, GBP 2000, GJ, HUF 2000, ISK 2000, Item(s), Items*a, Items*km, Items*mi, Items*nmi, J, JPY 2000, KRW 2000, LTL 2000, LVL 2000, M$ 2000, MJ, MJ/kg*d, MWh, Mg, Mt, NOK 2000, Nm3, PJ, Rutherford, SEK 2000, TCE, TJ, TOE, UBP, US fl oz, USD 2000, USD 2002, Wh, Yen, ZAR 2000, a, ac, bbl, bl (Imp), bl (US beer), bl (US dry), bl (US fl), bsh (Imp), bsh (US), btu, cg, ch, cl, cm, cm*m2/d, cm*m3, cm2, cm2a, cm3, cm3*a, ct, cu ft, cwt, d, dag, dal, dam, dg, dl, dm, dm2, dm3, dr (Av), dr (Fl), dwt, fl oz (Imp), ft, ft2, ft2*a, ftm, fur, g, g*a, gal (Imp), gal (US dry), gal (US fl), gal (US liq), gill, gr, h, ha, ha*a, hg, hl, hm, in, in2, in3, kBq, kJ, kWh, kWh/m2*d, kcal, kg, kg CO2-Equiv., kg DCB-Equiv., kg Ethene-Equiv., kg Phosphate-Equiv., kg R11-Equiv., kg SO2-Equiv., kg SWU, kg Sb-Equiv., kg*a, kg*d, kg*km, kg/a, km, km*a, km2, km2*a, kt, kt*km, l, l*a, l*d, l*km, l*mi, l*nmi, lb av, lb*mi, lb*nmi, long tn, m, m*a, m2, m2 yr eq organic arable land, m2*a, m2*d, m3, m3*a, m3*d, m3*km, m3*mi, m3*nmi, mBq, mg, mi, mi*a, mi2, mi2*a, min, ml, mm, mm*m2, mm2, mm2a, mm3, mol, nBq, ng, nmi, nmi2, oz av, oz t, p*km, p*mi, pg, pk, pt (Imp), pt (US dry), pt (US fl), qt (US dry), qt (US liq), s, sFr, sh tn, t, t*a, t*d, t*km, t*mi, t*nmi, u, ug, ul, v*km, yd, yd2, yd3, µBq\n",
      "    ```\n",
      "\n",
      "    Between the backticks is an exhaustive list of allowed units.\n",
      "    \n",
      "    Which of these units does kg N correspond to?\n",
      "    \n"
     ]
    },
    {
     "data": {
      "text/plain": [
       "'The unit \"kg N\" corresponds to the kilogram of nitrogen.'"
      ]
     },
     "execution_count": 12,
     "metadata": {},
     "output_type": "execute_result"
    }
   ],
   "source": [
    "map_unit_1(\"kg N\", units_set)"
   ]
  },
  {
   "cell_type": "code",
   "execution_count": 13,
   "id": "27465dbb-4753-4938-ae30-596b8ffa478b",
   "metadata": {},
   "outputs": [
    {
     "name": "stdout",
     "output_type": "stream",
     "text": [
      "The prompt is: \n",
      "    ```\n",
      "    $, (cmol*m2)/kg, (cmol*m2*a)/kg, (mm*m2)/a, AUD 2000, Bq, CAD 2000, CHF 2000, CHF 2005, CZK 2000, Ci, DKK 2000, Dozen(s), EEK 2000, EUR, EUR 2000, EUR 2003, GBP 2000, GJ, HUF 2000, ISK 2000, Item(s), Items*a, Items*km, Items*mi, Items*nmi, J, JPY 2000, KRW 2000, LTL 2000, LVL 2000, M$ 2000, MJ, MJ/kg*d, MWh, Mg, Mt, NOK 2000, Nm3, PJ, Rutherford, SEK 2000, TCE, TJ, TOE, UBP, US fl oz, USD 2000, USD 2002, Wh, Yen, ZAR 2000, a, ac, bbl, bl (Imp), bl (US beer), bl (US dry), bl (US fl), bsh (Imp), bsh (US), btu, cg, ch, cl, cm, cm*m2/d, cm*m3, cm2, cm2a, cm3, cm3*a, ct, cu ft, cwt, d, dag, dal, dam, dg, dl, dm, dm2, dm3, dr (Av), dr (Fl), dwt, fl oz (Imp), ft, ft2, ft2*a, ftm, fur, g, g*a, gal (Imp), gal (US dry), gal (US fl), gal (US liq), gill, gr, h, ha, ha*a, hg, hl, hm, in, in2, in3, kBq, kJ, kWh, kWh/m2*d, kcal, kg, kg CO2-Equiv., kg DCB-Equiv., kg Ethene-Equiv., kg Phosphate-Equiv., kg R11-Equiv., kg SO2-Equiv., kg SWU, kg Sb-Equiv., kg*a, kg*d, kg*km, kg/a, km, km*a, km2, km2*a, kt, kt*km, l, l*a, l*d, l*km, l*mi, l*nmi, lb av, lb*mi, lb*nmi, long tn, m, m*a, m2, m2 yr eq organic arable land, m2*a, m2*d, m3, m3*a, m3*d, m3*km, m3*mi, m3*nmi, mBq, mg, mi, mi*a, mi2, mi2*a, min, ml, mm, mm*m2, mm2, mm2a, mm3, mol, nBq, ng, nmi, nmi2, oz av, oz t, p*km, p*mi, pg, pk, pt (Imp), pt (US dry), pt (US fl), qt (US dry), qt (US liq), s, sFr, sh tn, t, t*a, t*d, t*km, t*mi, t*nmi, u, ug, ul, v*km, yd, yd2, yd3, µBq\n",
      "    ```\n",
      "\n",
      "    Between the backticks is an exhaustive list of allowed units.\n",
      "    \n",
      "    Which of these units does kg N correspond to?\n",
      "    \n"
     ]
    },
    {
     "data": {
      "text/plain": [
       "'kg N corresponds to kilograms of nitrogen.'"
      ]
     },
     "execution_count": 13,
     "metadata": {},
     "output_type": "execute_result"
    }
   ],
   "source": [
    "map_unit_1(\"kg N\", units_set)"
   ]
  },
  {
   "cell_type": "code",
   "execution_count": 14,
   "id": "2f5ea59b-b2b8-495e-bcd0-693450359611",
   "metadata": {},
   "outputs": [
    {
     "name": "stdout",
     "output_type": "stream",
     "text": [
      "The prompt is: \n",
      "    ```\n",
      "    $, (cmol*m2)/kg, (cmol*m2*a)/kg, (mm*m2)/a, AUD 2000, Bq, CAD 2000, CHF 2000, CHF 2005, CZK 2000, Ci, DKK 2000, Dozen(s), EEK 2000, EUR, EUR 2000, EUR 2003, GBP 2000, GJ, HUF 2000, ISK 2000, Item(s), Items*a, Items*km, Items*mi, Items*nmi, J, JPY 2000, KRW 2000, LTL 2000, LVL 2000, M$ 2000, MJ, MJ/kg*d, MWh, Mg, Mt, NOK 2000, Nm3, PJ, Rutherford, SEK 2000, TCE, TJ, TOE, UBP, US fl oz, USD 2000, USD 2002, Wh, Yen, ZAR 2000, a, ac, bbl, bl (Imp), bl (US beer), bl (US dry), bl (US fl), bsh (Imp), bsh (US), btu, cg, ch, cl, cm, cm*m2/d, cm*m3, cm2, cm2a, cm3, cm3*a, ct, cu ft, cwt, d, dag, dal, dam, dg, dl, dm, dm2, dm3, dr (Av), dr (Fl), dwt, fl oz (Imp), ft, ft2, ft2*a, ftm, fur, g, g*a, gal (Imp), gal (US dry), gal (US fl), gal (US liq), gill, gr, h, ha, ha*a, hg, hl, hm, in, in2, in3, kBq, kJ, kWh, kWh/m2*d, kcal, kg, kg CO2-Equiv., kg DCB-Equiv., kg Ethene-Equiv., kg Phosphate-Equiv., kg R11-Equiv., kg SO2-Equiv., kg SWU, kg Sb-Equiv., kg*a, kg*d, kg*km, kg/a, km, km*a, km2, km2*a, kt, kt*km, l, l*a, l*d, l*km, l*mi, l*nmi, lb av, lb*mi, lb*nmi, long tn, m, m*a, m2, m2 yr eq organic arable land, m2*a, m2*d, m3, m3*a, m3*d, m3*km, m3*mi, m3*nmi, mBq, mg, mi, mi*a, mi2, mi2*a, min, ml, mm, mm*m2, mm2, mm2a, mm3, mol, nBq, ng, nmi, nmi2, oz av, oz t, p*km, p*mi, pg, pk, pt (Imp), pt (US dry), pt (US fl), qt (US dry), qt (US liq), s, sFr, sh tn, t, t*a, t*d, t*km, t*mi, t*nmi, u, ug, ul, v*km, yd, yd2, yd3, µBq\n",
      "    ```\n",
      "\n",
      "    Between the backticks is an exhaustive list of allowed units.\n",
      "    \n",
      "    Which of these units does kg N correspond to?\n",
      "    \n"
     ]
    },
    {
     "data": {
      "text/plain": [
       "'The unit \"kg N\" corresponds to kilograms of nitrogen.'"
      ]
     },
     "execution_count": 14,
     "metadata": {},
     "output_type": "execute_result"
    }
   ],
   "source": [
    "map_unit_1(\"kg N\", units_set)"
   ]
  },
  {
   "cell_type": "markdown",
   "id": "733d0f10-9906-4e45-bae7-bd758930eadc",
   "metadata": {},
   "source": [
    "### Notice a difference?\n",
    "\n",
    "We don't always get the same output. There is randomness in the output. This is a bit scary.\n",
    "\n",
    "We can set lower the randomness by settting `temperature=0`.\n",
    "\n",
    "From now on this will be the default setting."
   ]
  },
  {
   "cell_type": "markdown",
   "id": "11272864-c97b-4b9f-951c-5f0add0dba48",
   "metadata": {},
   "source": [
    "### Seems to have worked! But I'd like to use that in my code, how do I do that?\n",
    "\n",
    "<details>\n",
    "  \n",
    "<summary><b>Answer</b></summary>\n",
    "\n",
    "- Build a regex? Not robust.\n",
    "- Ask the LLM to return a structured output? Yes please.\n",
    "\n",
    "</details>\n"
   ]
  },
  {
   "cell_type": "code",
   "execution_count": 15,
   "id": "eec158e7-3af1-4365-b297-a1820fcf9575",
   "metadata": {},
   "outputs": [],
   "source": [
    "def map_unit_2(source_unit: str, units_set: Set[str]) -> str:\n",
    "    sorted_units = list(sorted(units_set))\n",
    "\n",
    "    response_formatter = \"Output a JSON\"\n",
    "    \n",
    "    prompt = f\"\"\"\n",
    "    ```\n",
    "    {', '.join(sorted_units)}\n",
    "    ```\n",
    "\n",
    "    Between the backticks is an exhaustive list of allowed units.\n",
    "    \n",
    "    Which of these units does {source_unit} correspond to?\n",
    "\n",
    "    {response_formatter}\n",
    "    \"\"\"\n",
    "\n",
    "    print(f\"The prompt is: {prompt}\")\n",
    "    \n",
    "    response = openai.ChatCompletion.create(\n",
    "        model=\"gpt-3.5-turbo\",\n",
    "        messages=[\n",
    "            {\"role\": \"system\", \"content\": \"You are a helpful assistant.\"},\n",
    "            {\"role\": \"user\", \"content\": prompt},\n",
    "        ],\n",
    "        temperature=0\n",
    "    )\n",
    "    return response[\"choices\"][0][\"message\"][\"content\"]"
   ]
  },
  {
   "cell_type": "code",
   "execution_count": 16,
   "id": "e3e8db6e-f345-4d86-8292-407e7a063fdd",
   "metadata": {},
   "outputs": [
    {
     "name": "stdout",
     "output_type": "stream",
     "text": [
      "The prompt is: \n",
      "    ```\n",
      "    $, (cmol*m2)/kg, (cmol*m2*a)/kg, (mm*m2)/a, AUD 2000, Bq, CAD 2000, CHF 2000, CHF 2005, CZK 2000, Ci, DKK 2000, Dozen(s), EEK 2000, EUR, EUR 2000, EUR 2003, GBP 2000, GJ, HUF 2000, ISK 2000, Item(s), Items*a, Items*km, Items*mi, Items*nmi, J, JPY 2000, KRW 2000, LTL 2000, LVL 2000, M$ 2000, MJ, MJ/kg*d, MWh, Mg, Mt, NOK 2000, Nm3, PJ, Rutherford, SEK 2000, TCE, TJ, TOE, UBP, US fl oz, USD 2000, USD 2002, Wh, Yen, ZAR 2000, a, ac, bbl, bl (Imp), bl (US beer), bl (US dry), bl (US fl), bsh (Imp), bsh (US), btu, cg, ch, cl, cm, cm*m2/d, cm*m3, cm2, cm2a, cm3, cm3*a, ct, cu ft, cwt, d, dag, dal, dam, dg, dl, dm, dm2, dm3, dr (Av), dr (Fl), dwt, fl oz (Imp), ft, ft2, ft2*a, ftm, fur, g, g*a, gal (Imp), gal (US dry), gal (US fl), gal (US liq), gill, gr, h, ha, ha*a, hg, hl, hm, in, in2, in3, kBq, kJ, kWh, kWh/m2*d, kcal, kg, kg CO2-Equiv., kg DCB-Equiv., kg Ethene-Equiv., kg Phosphate-Equiv., kg R11-Equiv., kg SO2-Equiv., kg SWU, kg Sb-Equiv., kg*a, kg*d, kg*km, kg/a, km, km*a, km2, km2*a, kt, kt*km, l, l*a, l*d, l*km, l*mi, l*nmi, lb av, lb*mi, lb*nmi, long tn, m, m*a, m2, m2 yr eq organic arable land, m2*a, m2*d, m3, m3*a, m3*d, m3*km, m3*mi, m3*nmi, mBq, mg, mi, mi*a, mi2, mi2*a, min, ml, mm, mm*m2, mm2, mm2a, mm3, mol, nBq, ng, nmi, nmi2, oz av, oz t, p*km, p*mi, pg, pk, pt (Imp), pt (US dry), pt (US fl), qt (US dry), qt (US liq), s, sFr, sh tn, t, t*a, t*d, t*km, t*mi, t*nmi, u, ug, ul, v*km, yd, yd2, yd3, µBq\n",
      "    ```\n",
      "\n",
      "    Between the backticks is an exhaustive list of allowed units.\n",
      "    \n",
      "    Which of these units does kg N correspond to?\n",
      "\n",
      "    Output a JSON\n",
      "    \n"
     ]
    },
    {
     "data": {
      "text/plain": [
       "'{\\n  \"kg N\": \"kg of Nitrogen\"\\n}'"
      ]
     },
     "execution_count": 16,
     "metadata": {},
     "output_type": "execute_result"
    }
   ],
   "source": [
    "map_unit_2(\"kg N\", units_set)"
   ]
  },
  {
   "cell_type": "markdown",
   "id": "4c639e1b-0122-4cfd-9ad6-90dc59f63135",
   "metadata": {},
   "source": [
    "### Cool, that's an improvement, let's parse it"
   ]
  },
  {
   "cell_type": "code",
   "execution_count": 17,
   "id": "de7f4efa-4bad-4fb9-ba13-b9b3f14a5f3d",
   "metadata": {},
   "outputs": [],
   "source": [
    "def map_unit_3(source_unit: str, units_set: Set[str]) -> str:\n",
    "    sorted_units = list(sorted(units_set))\n",
    "\n",
    "    response_formatter = \"Output a JSON\"\n",
    "    \n",
    "    prompt = f\"\"\"\n",
    "    ```\n",
    "    {', '.join(sorted_units)}\n",
    "    ```\n",
    "\n",
    "    Between the backticks is an exhaustive list of allowed units.\n",
    "    \n",
    "    Which of these units does {source_unit} correspond to?\n",
    "\n",
    "    {response_formatter}\n",
    "    \"\"\"\n",
    "\n",
    "    print(f\"The prompt is: {prompt}\")\n",
    "    \n",
    "    response = openai.ChatCompletion.create(\n",
    "        model=\"gpt-3.5-turbo\",\n",
    "        messages=[\n",
    "            {\"role\": \"system\", \"content\": \"You are a helpful assistant.\"},\n",
    "            {\"role\": \"user\", \"content\": prompt},\n",
    "        ],\n",
    "        temperature=0\n",
    "    )\n",
    "    output_json_str = response[\"choices\"][0][\"message\"][\"content\"]\n",
    "    print(f\"Output: {output_json_str}\")\n",
    "\n",
    "    parsed_output = json.loads(output_json_str)\n",
    "    return parsed_output[source_unit]\n"
   ]
  },
  {
   "cell_type": "code",
   "execution_count": 18,
   "id": "5ba84ea7-f9cd-48d3-98a7-270f1b596db3",
   "metadata": {},
   "outputs": [
    {
     "name": "stdout",
     "output_type": "stream",
     "text": [
      "The prompt is: \n",
      "    ```\n",
      "    $, (cmol*m2)/kg, (cmol*m2*a)/kg, (mm*m2)/a, AUD 2000, Bq, CAD 2000, CHF 2000, CHF 2005, CZK 2000, Ci, DKK 2000, Dozen(s), EEK 2000, EUR, EUR 2000, EUR 2003, GBP 2000, GJ, HUF 2000, ISK 2000, Item(s), Items*a, Items*km, Items*mi, Items*nmi, J, JPY 2000, KRW 2000, LTL 2000, LVL 2000, M$ 2000, MJ, MJ/kg*d, MWh, Mg, Mt, NOK 2000, Nm3, PJ, Rutherford, SEK 2000, TCE, TJ, TOE, UBP, US fl oz, USD 2000, USD 2002, Wh, Yen, ZAR 2000, a, ac, bbl, bl (Imp), bl (US beer), bl (US dry), bl (US fl), bsh (Imp), bsh (US), btu, cg, ch, cl, cm, cm*m2/d, cm*m3, cm2, cm2a, cm3, cm3*a, ct, cu ft, cwt, d, dag, dal, dam, dg, dl, dm, dm2, dm3, dr (Av), dr (Fl), dwt, fl oz (Imp), ft, ft2, ft2*a, ftm, fur, g, g*a, gal (Imp), gal (US dry), gal (US fl), gal (US liq), gill, gr, h, ha, ha*a, hg, hl, hm, in, in2, in3, kBq, kJ, kWh, kWh/m2*d, kcal, kg, kg CO2-Equiv., kg DCB-Equiv., kg Ethene-Equiv., kg Phosphate-Equiv., kg R11-Equiv., kg SO2-Equiv., kg SWU, kg Sb-Equiv., kg*a, kg*d, kg*km, kg/a, km, km*a, km2, km2*a, kt, kt*km, l, l*a, l*d, l*km, l*mi, l*nmi, lb av, lb*mi, lb*nmi, long tn, m, m*a, m2, m2 yr eq organic arable land, m2*a, m2*d, m3, m3*a, m3*d, m3*km, m3*mi, m3*nmi, mBq, mg, mi, mi*a, mi2, mi2*a, min, ml, mm, mm*m2, mm2, mm2a, mm3, mol, nBq, ng, nmi, nmi2, oz av, oz t, p*km, p*mi, pg, pk, pt (Imp), pt (US dry), pt (US fl), qt (US dry), qt (US liq), s, sFr, sh tn, t, t*a, t*d, t*km, t*mi, t*nmi, u, ug, ul, v*km, yd, yd2, yd3, µBq\n",
      "    ```\n",
      "\n",
      "    Between the backticks is an exhaustive list of allowed units.\n",
      "    \n",
      "    Which of these units does kg N correspond to?\n",
      "\n",
      "    Output a JSON\n",
      "    \n",
      "Output: {\n",
      "  \"kg N\": \"kg of Nitrogen\"\n",
      "}\n"
     ]
    },
    {
     "data": {
      "text/plain": [
       "'kg of Nitrogen'"
      ]
     },
     "execution_count": 18,
     "metadata": {},
     "output_type": "execute_result"
    }
   ],
   "source": [
    "map_unit_3(\"kg N\", units_set)"
   ]
  },
  {
   "cell_type": "code",
   "execution_count": 19,
   "id": "475a26d3-f247-466d-9d8a-4bef2eb34a82",
   "metadata": {},
   "outputs": [],
   "source": [
    "def map_unit_4(source_unit: str, units_set: Set[str]) -> str:\n",
    "    sorted_units = list(sorted(units_set))\n",
    "\n",
    "    response_formatter = \"Output a JSON with key 'unit' and value the unit from the list of units between the backticks\"\n",
    "    \n",
    "    prompt = f\"\"\"\n",
    "    ```\n",
    "    {', '.join(sorted_units)}\n",
    "    ```\n",
    "\n",
    "    Between the backticks is an exhaustive list of allowed units.\n",
    "    \n",
    "    Which of these units does {source_unit} correspond to?\n",
    "\n",
    "    {response_formatter}\n",
    "    \"\"\"\n",
    "\n",
    "    print(f\"The prompt is: {prompt}\")\n",
    "    \n",
    "    response = openai.ChatCompletion.create(\n",
    "        model=\"gpt-3.5-turbo\",\n",
    "        messages=[\n",
    "            {\"role\": \"system\", \"content\": \"You are a helpful assistant.\"},\n",
    "            {\"role\": \"user\", \"content\": prompt},\n",
    "        ],\n",
    "        temperature=0\n",
    "    )\n",
    "    output_json_str = response[\"choices\"][0][\"message\"][\"content\"]\n",
    "    print(f\"Output: {output_json_str}\")\n",
    "\n",
    "    parsed_output = json.loads(output_json_str)\n",
    "    return parsed_output[\"unit\"]\n"
   ]
  },
  {
   "cell_type": "code",
   "execution_count": 20,
   "id": "a2ba3e3f-47de-4546-bd7e-c0b440cf862f",
   "metadata": {},
   "outputs": [
    {
     "name": "stdout",
     "output_type": "stream",
     "text": [
      "The prompt is: \n",
      "    ```\n",
      "    $, (cmol*m2)/kg, (cmol*m2*a)/kg, (mm*m2)/a, AUD 2000, Bq, CAD 2000, CHF 2000, CHF 2005, CZK 2000, Ci, DKK 2000, Dozen(s), EEK 2000, EUR, EUR 2000, EUR 2003, GBP 2000, GJ, HUF 2000, ISK 2000, Item(s), Items*a, Items*km, Items*mi, Items*nmi, J, JPY 2000, KRW 2000, LTL 2000, LVL 2000, M$ 2000, MJ, MJ/kg*d, MWh, Mg, Mt, NOK 2000, Nm3, PJ, Rutherford, SEK 2000, TCE, TJ, TOE, UBP, US fl oz, USD 2000, USD 2002, Wh, Yen, ZAR 2000, a, ac, bbl, bl (Imp), bl (US beer), bl (US dry), bl (US fl), bsh (Imp), bsh (US), btu, cg, ch, cl, cm, cm*m2/d, cm*m3, cm2, cm2a, cm3, cm3*a, ct, cu ft, cwt, d, dag, dal, dam, dg, dl, dm, dm2, dm3, dr (Av), dr (Fl), dwt, fl oz (Imp), ft, ft2, ft2*a, ftm, fur, g, g*a, gal (Imp), gal (US dry), gal (US fl), gal (US liq), gill, gr, h, ha, ha*a, hg, hl, hm, in, in2, in3, kBq, kJ, kWh, kWh/m2*d, kcal, kg, kg CO2-Equiv., kg DCB-Equiv., kg Ethene-Equiv., kg Phosphate-Equiv., kg R11-Equiv., kg SO2-Equiv., kg SWU, kg Sb-Equiv., kg*a, kg*d, kg*km, kg/a, km, km*a, km2, km2*a, kt, kt*km, l, l*a, l*d, l*km, l*mi, l*nmi, lb av, lb*mi, lb*nmi, long tn, m, m*a, m2, m2 yr eq organic arable land, m2*a, m2*d, m3, m3*a, m3*d, m3*km, m3*mi, m3*nmi, mBq, mg, mi, mi*a, mi2, mi2*a, min, ml, mm, mm*m2, mm2, mm2a, mm3, mol, nBq, ng, nmi, nmi2, oz av, oz t, p*km, p*mi, pg, pk, pt (Imp), pt (US dry), pt (US fl), qt (US dry), qt (US liq), s, sFr, sh tn, t, t*a, t*d, t*km, t*mi, t*nmi, u, ug, ul, v*km, yd, yd2, yd3, µBq\n",
      "    ```\n",
      "\n",
      "    Between the backticks is an exhaustive list of allowed units.\n",
      "    \n",
      "    Which of these units does kg N correspond to?\n",
      "\n",
      "    Output a JSON with key 'unit' and value the unit from the list of units between the backticks\n",
      "    \n",
      "Output: {\n",
      "  \"unit\": \"kg N\"\n",
      "}\n"
     ]
    },
    {
     "data": {
      "text/plain": [
       "'kg N'"
      ]
     },
     "execution_count": 20,
     "metadata": {},
     "output_type": "execute_result"
    }
   ],
   "source": [
    "map_unit_4(\"kg N\", units_set)"
   ]
  },
  {
   "cell_type": "code",
   "execution_count": 21,
   "id": "db5c716b-3553-4b65-bde2-93079b15ddfc",
   "metadata": {},
   "outputs": [],
   "source": [
    "def map_unit_5(source_unit: str, units_set: Set[str]) -> str:\n",
    "    sorted_units = list(sorted(units_set))\n",
    "\n",
    "    response_formatter = \"Output a JSON with key 'unit' and value the unit from the list of units between the backticks\"\n",
    "    \n",
    "    prompt = f\"\"\"\n",
    "    Between the backticks is an exhaustive list of allowed units:\n",
    "    \n",
    "    ```\n",
    "    {', '.join(sorted_units)}\n",
    "    ```\n",
    "\n",
    "    Which of these units does {source_unit} correspond to?\n",
    "\n",
    "    {response_formatter}\n",
    "    \"\"\"\n",
    "\n",
    "    print(f\"The prompt is: {prompt}\")\n",
    "    \n",
    "    response = openai.ChatCompletion.create(\n",
    "        model=\"gpt-3.5-turbo\",\n",
    "        messages=[\n",
    "            {\"role\": \"system\", \"content\": \"You are a helpful assistant.\"},\n",
    "            {\"role\": \"user\", \"content\": prompt},\n",
    "        ],\n",
    "        temperature=0\n",
    "    )\n",
    "    output_json_str = response[\"choices\"][0][\"message\"][\"content\"]\n",
    "    print(f\"Output: {output_json_str}\")\n",
    "\n",
    "    parsed_output = json.loads(output_json_str)\n",
    "    return parsed_output[\"unit\"]\n"
   ]
  },
  {
   "cell_type": "code",
   "execution_count": 22,
   "id": "6dd769fc-67fd-4bab-adbb-a88c1d3a2475",
   "metadata": {},
   "outputs": [
    {
     "name": "stdout",
     "output_type": "stream",
     "text": [
      "The prompt is: \n",
      "    Between the backticks is an exhaustive list of allowed units:\n",
      "    \n",
      "    ```\n",
      "    $, (cmol*m2)/kg, (cmol*m2*a)/kg, (mm*m2)/a, AUD 2000, Bq, CAD 2000, CHF 2000, CHF 2005, CZK 2000, Ci, DKK 2000, Dozen(s), EEK 2000, EUR, EUR 2000, EUR 2003, GBP 2000, GJ, HUF 2000, ISK 2000, Item(s), Items*a, Items*km, Items*mi, Items*nmi, J, JPY 2000, KRW 2000, LTL 2000, LVL 2000, M$ 2000, MJ, MJ/kg*d, MWh, Mg, Mt, NOK 2000, Nm3, PJ, Rutherford, SEK 2000, TCE, TJ, TOE, UBP, US fl oz, USD 2000, USD 2002, Wh, Yen, ZAR 2000, a, ac, bbl, bl (Imp), bl (US beer), bl (US dry), bl (US fl), bsh (Imp), bsh (US), btu, cg, ch, cl, cm, cm*m2/d, cm*m3, cm2, cm2a, cm3, cm3*a, ct, cu ft, cwt, d, dag, dal, dam, dg, dl, dm, dm2, dm3, dr (Av), dr (Fl), dwt, fl oz (Imp), ft, ft2, ft2*a, ftm, fur, g, g*a, gal (Imp), gal (US dry), gal (US fl), gal (US liq), gill, gr, h, ha, ha*a, hg, hl, hm, in, in2, in3, kBq, kJ, kWh, kWh/m2*d, kcal, kg, kg CO2-Equiv., kg DCB-Equiv., kg Ethene-Equiv., kg Phosphate-Equiv., kg R11-Equiv., kg SO2-Equiv., kg SWU, kg Sb-Equiv., kg*a, kg*d, kg*km, kg/a, km, km*a, km2, km2*a, kt, kt*km, l, l*a, l*d, l*km, l*mi, l*nmi, lb av, lb*mi, lb*nmi, long tn, m, m*a, m2, m2 yr eq organic arable land, m2*a, m2*d, m3, m3*a, m3*d, m3*km, m3*mi, m3*nmi, mBq, mg, mi, mi*a, mi2, mi2*a, min, ml, mm, mm*m2, mm2, mm2a, mm3, mol, nBq, ng, nmi, nmi2, oz av, oz t, p*km, p*mi, pg, pk, pt (Imp), pt (US dry), pt (US fl), qt (US dry), qt (US liq), s, sFr, sh tn, t, t*a, t*d, t*km, t*mi, t*nmi, u, ug, ul, v*km, yd, yd2, yd3, µBq\n",
      "    ```\n",
      "\n",
      "    Which of these units does kg N correspond to?\n",
      "\n",
      "    Output a JSON with key 'unit' and value the unit from the list of units between the backticks\n",
      "    \n",
      "Output: {\n",
      "  \"unit\": \"kg\"\n",
      "}\n"
     ]
    },
    {
     "data": {
      "text/plain": [
       "'kg'"
      ]
     },
     "execution_count": 22,
     "metadata": {},
     "output_type": "execute_result"
    }
   ],
   "source": [
    "map_unit_5(\"kg N\", units_set)"
   ]
  },
  {
   "cell_type": "markdown",
   "id": "287618b5-a2c9-477f-b2c4-0d42f65f8df4",
   "metadata": {},
   "source": [
    "## This still feels really brittle. Can we type this?\n",
    "\n"
   ]
  },
  {
   "cell_type": "code",
   "execution_count": 23,
   "id": "84f1f483-c8ea-4a4c-a473-fb84ff65fee4",
   "metadata": {},
   "outputs": [],
   "source": [
    "import pydantic\n",
    "\n",
    "PYDANTIC_FORMAT_INSTRUCTIONS = \"\"\"The output should be formatted as a JSON instance that conforms to the JSON schema below.\n",
    "\n",
    "As an example, for the schema {{\"properties\": {{\"foo\": {{\"title\": \"Foo\", \"description\": \"a list of strings\", \"type\": \"array\", \"items\": {{\"type\": \"string\"}}}}}}, \"required\": [\"foo\"]}}\n",
    "the object {{\"foo\": [\"bar\", \"baz\"]}} is a well-formatted instance of the schema. The object {{\"properties\": {{\"foo\": [\"bar\", \"baz\"]}}}} is not well-formatted.\n",
    "\n",
    "Here is the output schema:\n",
    "```\n",
    "{schema}\n",
    "```\"\"\"\n",
    "\n",
    "class UnitResponse(pydantic.BaseModel):\n",
    "    unit: str = pydantic.Field(\"the mapped unit from the provided exhaustive list\")"
   ]
  },
  {
   "cell_type": "code",
   "execution_count": 24,
   "id": "1be2ca61-29b7-4387-810d-ba949b47cc47",
   "metadata": {},
   "outputs": [
    {
     "data": {
      "text/plain": [
       "{'title': 'UnitResponse',\n",
       " 'type': 'object',\n",
       " 'properties': {'unit': {'title': 'Unit',\n",
       "   'default': 'the mapped unit from the provided exhaustive list',\n",
       "   'type': 'string'}}}"
      ]
     },
     "execution_count": 24,
     "metadata": {},
     "output_type": "execute_result"
    }
   ],
   "source": [
    "UnitResponse.schema()"
   ]
  },
  {
   "cell_type": "code",
   "execution_count": 25,
   "id": "340aa88b-d842-414f-b3ef-be04c2aa3d06",
   "metadata": {},
   "outputs": [],
   "source": [
    "def describe_pydantic_schema_as_str(model: pydantic.BaseModel):\n",
    "    schema = model.schema()\n",
    "    for key, value in schema.get(\"properties\", {}).items():\n",
    "        if \"title\" in value:\n",
    "            del value[\"title\"]\n",
    "        if \"type\" in value and \"description\" in value:\n",
    "            value = value[\"description\"]\n",
    "            schema[\"properties\"][key] = value\n",
    "    return json.dumps(schema)"
   ]
  },
  {
   "cell_type": "code",
   "execution_count": 26,
   "id": "30850e1d-b5b3-406c-9209-1d5727df49db",
   "metadata": {},
   "outputs": [
    {
     "data": {
      "text/plain": [
       "'{\"title\": \"UnitResponse\", \"type\": \"object\", \"properties\": {\"unit\": {\"default\": \"the mapped unit from the provided exhaustive list\", \"type\": \"string\"}}}'"
      ]
     },
     "execution_count": 26,
     "metadata": {},
     "output_type": "execute_result"
    }
   ],
   "source": [
    "describe_pydantic_schema_as_str(UnitResponse)"
   ]
  },
  {
   "cell_type": "code",
   "execution_count": 27,
   "id": "cf1c854a-02d4-40a2-944b-8b6efe7aa149",
   "metadata": {},
   "outputs": [],
   "source": [
    "def map_unit_6(source_unit: str, units_set: Set[str]) -> str:\n",
    "    sorted_units = list(sorted(units_set))\n",
    "\n",
    "    response_formatter = PYDANTIC_FORMAT_INSTRUCTIONS.format(\n",
    "        schema=describe_pydantic_schema_as_str(UnitResponse)\n",
    "    )\n",
    "    \n",
    "    prompt = f\"\"\"\n",
    "    Between the backticks is an exhaustive list of allowed units:\n",
    "    \n",
    "    ```\n",
    "    {', '.join(sorted_units)}\n",
    "    ```\n",
    "\n",
    "    Which of these units does {source_unit} correspond to?\n",
    "\n",
    "    {response_formatter}\n",
    "    \"\"\"\n",
    "\n",
    "    print(f\"The prompt is: {prompt}\")\n",
    "    \n",
    "    response = openai.ChatCompletion.create(\n",
    "        model=\"gpt-3.5-turbo\",\n",
    "        messages=[\n",
    "            {\"role\": \"system\", \"content\": \"You are a helpful assistant.\"},\n",
    "            {\"role\": \"user\", \"content\": prompt},\n",
    "        ],\n",
    "        temperature=0\n",
    "    )\n",
    "    output_json_str = response[\"choices\"][0][\"message\"][\"content\"]\n",
    "    print(f\"Output: {output_json_str}\")\n",
    "\n",
    "    return json.loads(output_json_str)"
   ]
  },
  {
   "cell_type": "code",
   "execution_count": 29,
   "id": "fafb1d4c-6908-4681-97e6-521e281fdc8f",
   "metadata": {},
   "outputs": [
    {
     "name": "stdout",
     "output_type": "stream",
     "text": [
      "The prompt is: \n",
      "    Between the backticks is an exhaustive list of allowed units:\n",
      "    \n",
      "    ```\n",
      "    $, (cmol*m2)/kg, (cmol*m2*a)/kg, (mm*m2)/a, AUD 2000, Bq, CAD 2000, CHF 2000, CHF 2005, CZK 2000, Ci, DKK 2000, Dozen(s), EEK 2000, EUR, EUR 2000, EUR 2003, GBP 2000, GJ, HUF 2000, ISK 2000, Item(s), Items*a, Items*km, Items*mi, Items*nmi, J, JPY 2000, KRW 2000, LTL 2000, LVL 2000, M$ 2000, MJ, MJ/kg*d, MWh, Mg, Mt, NOK 2000, Nm3, PJ, Rutherford, SEK 2000, TCE, TJ, TOE, UBP, US fl oz, USD 2000, USD 2002, Wh, Yen, ZAR 2000, a, ac, bbl, bl (Imp), bl (US beer), bl (US dry), bl (US fl), bsh (Imp), bsh (US), btu, cg, ch, cl, cm, cm*m2/d, cm*m3, cm2, cm2a, cm3, cm3*a, ct, cu ft, cwt, d, dag, dal, dam, dg, dl, dm, dm2, dm3, dr (Av), dr (Fl), dwt, fl oz (Imp), ft, ft2, ft2*a, ftm, fur, g, g*a, gal (Imp), gal (US dry), gal (US fl), gal (US liq), gill, gr, h, ha, ha*a, hg, hl, hm, in, in2, in3, kBq, kJ, kWh, kWh/m2*d, kcal, kg, kg CO2-Equiv., kg DCB-Equiv., kg Ethene-Equiv., kg Phosphate-Equiv., kg R11-Equiv., kg SO2-Equiv., kg SWU, kg Sb-Equiv., kg*a, kg*d, kg*km, kg/a, km, km*a, km2, km2*a, kt, kt*km, l, l*a, l*d, l*km, l*mi, l*nmi, lb av, lb*mi, lb*nmi, long tn, m, m*a, m2, m2 yr eq organic arable land, m2*a, m2*d, m3, m3*a, m3*d, m3*km, m3*mi, m3*nmi, mBq, mg, mi, mi*a, mi2, mi2*a, min, ml, mm, mm*m2, mm2, mm2a, mm3, mol, nBq, ng, nmi, nmi2, oz av, oz t, p*km, p*mi, pg, pk, pt (Imp), pt (US dry), pt (US fl), qt (US dry), qt (US liq), s, sFr, sh tn, t, t*a, t*d, t*km, t*mi, t*nmi, u, ug, ul, v*km, yd, yd2, yd3, µBq\n",
      "    ```\n",
      "\n",
      "    Which of these units does kg N correspond to?\n",
      "\n",
      "    The output should be formatted as a JSON instance that conforms to the JSON schema below.\n",
      "\n",
      "As an example, for the schema {\"properties\": {\"foo\": {\"title\": \"Foo\", \"description\": \"a list of strings\", \"type\": \"array\", \"items\": {\"type\": \"string\"}}}, \"required\": [\"foo\"]}\n",
      "the object {\"foo\": [\"bar\", \"baz\"]} is a well-formatted instance of the schema. The object {\"properties\": {\"foo\": [\"bar\", \"baz\"]}} is not well-formatted.\n",
      "\n",
      "Here is the output schema:\n",
      "```\n",
      "{\"title\": \"UnitResponse\", \"type\": \"object\", \"properties\": {\"unit\": {\"default\": \"the mapped unit from the provided exhaustive list\", \"type\": \"string\"}}}\n",
      "```\n",
      "    \n",
      "Output: {\"unit\": \"kg\"}\n"
     ]
    },
    {
     "data": {
      "text/plain": [
       "{'unit': 'kg'}"
      ]
     },
     "execution_count": 29,
     "metadata": {},
     "output_type": "execute_result"
    }
   ],
   "source": [
    "map_unit_6(\"kg N\", units_set)"
   ]
  },
  {
   "cell_type": "code",
   "execution_count": 30,
   "id": "26f8a46f-835e-4569-90bd-c7b6d6c500cf",
   "metadata": {},
   "outputs": [],
   "source": [
    "def map_unit_7(source_unit: str, units_set: Set[str]) -> str:\n",
    "    sorted_units = list(sorted(units_set))\n",
    "\n",
    "    response_formatter = PYDANTIC_FORMAT_INSTRUCTIONS.format(\n",
    "        schema=describe_pydantic_schema_as_str(UnitResponse)\n",
    "    )\n",
    "    \n",
    "    prompt = f\"\"\"\n",
    "    Between the backticks is an exhaustive list of allowed units:\n",
    "    \n",
    "    ```\n",
    "    {', '.join(sorted_units)}\n",
    "    ```\n",
    "\n",
    "    Which of these units does {source_unit} correspond to?\n",
    "\n",
    "    {response_formatter}\n",
    "    \"\"\"\n",
    "\n",
    "    print(f\"The prompt is: {prompt}\")\n",
    "    \n",
    "    response = openai.ChatCompletion.create(\n",
    "        model=\"gpt-3.5-turbo\",\n",
    "        messages=[\n",
    "            {\"role\": \"system\", \"content\": \"You are a helpful assistant.\"},\n",
    "            {\"role\": \"user\", \"content\": prompt},\n",
    "        ],\n",
    "        temperature=0\n",
    "    )\n",
    "    output_json_str = response[\"choices\"][0][\"message\"][\"content\"]\n",
    "    print(f\"Output: {output_json_str}\")\n",
    "\n",
    "    parsed_output = json.loads(output_json_str)\n",
    "\n",
    "    assert UnitResponse.parse_obj(parsed_output)\n",
    "    \n",
    "    return parsed_output"
   ]
  },
  {
   "cell_type": "code",
   "execution_count": 31,
   "id": "b68a7252-cb79-4f64-a248-d2b934b85f27",
   "metadata": {},
   "outputs": [
    {
     "name": "stdout",
     "output_type": "stream",
     "text": [
      "The prompt is: \n",
      "    Between the backticks is an exhaustive list of allowed units:\n",
      "    \n",
      "    ```\n",
      "    $, (cmol*m2)/kg, (cmol*m2*a)/kg, (mm*m2)/a, AUD 2000, Bq, CAD 2000, CHF 2000, CHF 2005, CZK 2000, Ci, DKK 2000, Dozen(s), EEK 2000, EUR, EUR 2000, EUR 2003, GBP 2000, GJ, HUF 2000, ISK 2000, Item(s), Items*a, Items*km, Items*mi, Items*nmi, J, JPY 2000, KRW 2000, LTL 2000, LVL 2000, M$ 2000, MJ, MJ/kg*d, MWh, Mg, Mt, NOK 2000, Nm3, PJ, Rutherford, SEK 2000, TCE, TJ, TOE, UBP, US fl oz, USD 2000, USD 2002, Wh, Yen, ZAR 2000, a, ac, bbl, bl (Imp), bl (US beer), bl (US dry), bl (US fl), bsh (Imp), bsh (US), btu, cg, ch, cl, cm, cm*m2/d, cm*m3, cm2, cm2a, cm3, cm3*a, ct, cu ft, cwt, d, dag, dal, dam, dg, dl, dm, dm2, dm3, dr (Av), dr (Fl), dwt, fl oz (Imp), ft, ft2, ft2*a, ftm, fur, g, g*a, gal (Imp), gal (US dry), gal (US fl), gal (US liq), gill, gr, h, ha, ha*a, hg, hl, hm, in, in2, in3, kBq, kJ, kWh, kWh/m2*d, kcal, kg, kg CO2-Equiv., kg DCB-Equiv., kg Ethene-Equiv., kg Phosphate-Equiv., kg R11-Equiv., kg SO2-Equiv., kg SWU, kg Sb-Equiv., kg*a, kg*d, kg*km, kg/a, km, km*a, km2, km2*a, kt, kt*km, l, l*a, l*d, l*km, l*mi, l*nmi, lb av, lb*mi, lb*nmi, long tn, m, m*a, m2, m2 yr eq organic arable land, m2*a, m2*d, m3, m3*a, m3*d, m3*km, m3*mi, m3*nmi, mBq, mg, mi, mi*a, mi2, mi2*a, min, ml, mm, mm*m2, mm2, mm2a, mm3, mol, nBq, ng, nmi, nmi2, oz av, oz t, p*km, p*mi, pg, pk, pt (Imp), pt (US dry), pt (US fl), qt (US dry), qt (US liq), s, sFr, sh tn, t, t*a, t*d, t*km, t*mi, t*nmi, u, ug, ul, v*km, yd, yd2, yd3, µBq\n",
      "    ```\n",
      "\n",
      "    Which of these units does kg N correspond to?\n",
      "\n",
      "    The output should be formatted as a JSON instance that conforms to the JSON schema below.\n",
      "\n",
      "As an example, for the schema {\"properties\": {\"foo\": {\"title\": \"Foo\", \"description\": \"a list of strings\", \"type\": \"array\", \"items\": {\"type\": \"string\"}}}, \"required\": [\"foo\"]}\n",
      "the object {\"foo\": [\"bar\", \"baz\"]} is a well-formatted instance of the schema. The object {\"properties\": {\"foo\": [\"bar\", \"baz\"]}} is not well-formatted.\n",
      "\n",
      "Here is the output schema:\n",
      "```\n",
      "{\"title\": \"UnitResponse\", \"type\": \"object\", \"properties\": {\"unit\": {\"default\": \"the mapped unit from the provided exhaustive list\", \"type\": \"string\"}}}\n",
      "```\n",
      "    \n",
      "Output: {\"unit\": \"kg\"}\n"
     ]
    },
    {
     "data": {
      "text/plain": [
       "{'unit': 'kg'}"
      ]
     },
     "execution_count": 31,
     "metadata": {},
     "output_type": "execute_result"
    }
   ],
   "source": [
    "map_unit_7(\"kg N\", units_set)"
   ]
  },
  {
   "cell_type": "markdown",
   "id": "dcd1d5e7-6cd7-4c20-bb37-71e311a4b0df",
   "metadata": {},
   "source": [
    "### What is that is a sub/super unit?\n",
    "\n",
    "Let's make our schema more complex and see if this works out of the box."
   ]
  },
  {
   "cell_type": "code",
   "execution_count": 32,
   "id": "24411633-d1a2-44aa-b44f-9f48fe487182",
   "metadata": {},
   "outputs": [],
   "source": [
    "class UnitResponse2(pydantic.BaseModel):\n",
    "    source_unit: str = pydantic.Field(\"the source unit\")\n",
    "    allowed_unit: str = pydantic.Field(\"the allowed unit\")\n",
    "    conversion_factor: int = pydantic.Field(\"the conversion factor from the provided unit to the mapped unit one\")\n",
    "\n",
    "\n",
    "def map_unit_8(source_unit: str, units_set: Set[str]) -> str:\n",
    "    sorted_units = list(sorted(units_set))\n",
    "\n",
    "    response_formatter = PYDANTIC_FORMAT_INSTRUCTIONS.format(\n",
    "        schema=describe_pydantic_schema_as_str(UnitResponse2)\n",
    "    )\n",
    "    \n",
    "    prompt = f\"\"\"\n",
    "    Between the backticks is an exhaustive list of allowed units:\n",
    "    \n",
    "    ```\n",
    "    {', '.join(sorted_units)}\n",
    "    ```\n",
    "\n",
    "    Which of these units does source unit: `{source_unit}` correspond to?\n",
    "\n",
    "    {response_formatter}\n",
    "    \"\"\"\n",
    "\n",
    "    print(f\"The prompt is: {prompt}\")\n",
    "    \n",
    "    response = openai.ChatCompletion.create(\n",
    "        model=\"gpt-3.5-turbo\",\n",
    "        messages=[\n",
    "            {\"role\": \"system\", \"content\": \"You are a helpful assistant.\"},\n",
    "            {\"role\": \"user\", \"content\": prompt},\n",
    "        ],\n",
    "        temperature=0\n",
    "    )\n",
    "    output_json_str = response[\"choices\"][0][\"message\"][\"content\"]\n",
    "    print(f\"Output: {output_json_str}\")\n",
    "\n",
    "    parsed_output = json.loads(output_json_str)\n",
    "\n",
    "    assert UnitResponse2.parse_obj(parsed_output)\n",
    "    \n",
    "    return parsed_output"
   ]
  },
  {
   "cell_type": "code",
   "execution_count": 33,
   "id": "b52c8615-2da8-49d7-bf2a-de326f2ad8fe",
   "metadata": {},
   "outputs": [
    {
     "name": "stdout",
     "output_type": "stream",
     "text": [
      "The prompt is: \n",
      "    Between the backticks is an exhaustive list of allowed units:\n",
      "    \n",
      "    ```\n",
      "    $, (cmol*m2)/kg, (cmol*m2*a)/kg, (mm*m2)/a, AUD 2000, Bq, CAD 2000, CHF 2000, CHF 2005, CZK 2000, Ci, DKK 2000, Dozen(s), EEK 2000, EUR, EUR 2000, EUR 2003, GBP 2000, GJ, HUF 2000, ISK 2000, Item(s), Items*a, Items*km, Items*mi, Items*nmi, J, JPY 2000, KRW 2000, LTL 2000, LVL 2000, M$ 2000, MJ, MJ/kg*d, MWh, Mg, Mt, NOK 2000, Nm3, PJ, Rutherford, SEK 2000, TCE, TJ, TOE, UBP, US fl oz, USD 2000, USD 2002, Wh, Yen, ZAR 2000, a, ac, bbl, bl (Imp), bl (US beer), bl (US dry), bl (US fl), bsh (Imp), bsh (US), btu, cg, ch, cl, cm, cm*m2/d, cm*m3, cm2, cm2a, cm3, cm3*a, ct, cu ft, cwt, d, dag, dal, dam, dg, dl, dm, dm2, dm3, dr (Av), dr (Fl), dwt, fl oz (Imp), ft, ft2, ft2*a, ftm, fur, g, g*a, gal (Imp), gal (US dry), gal (US fl), gal (US liq), gill, gr, h, ha, ha*a, hg, hl, hm, in, in2, in3, kBq, kJ, kWh, kWh/m2*d, kcal, kg, kg CO2-Equiv., kg DCB-Equiv., kg Ethene-Equiv., kg Phosphate-Equiv., kg R11-Equiv., kg SO2-Equiv., kg SWU, kg Sb-Equiv., kg*a, kg*d, kg*km, kg/a, km, km*a, km2, km2*a, kt, kt*km, l, l*a, l*d, l*km, l*mi, l*nmi, lb av, lb*mi, lb*nmi, long tn, m, m*a, m2, m2 yr eq organic arable land, m2*a, m2*d, m3, m3*a, m3*d, m3*km, m3*mi, m3*nmi, mBq, mg, mi, mi*a, mi2, mi2*a, min, ml, mm, mm*m2, mm2, mm2a, mm3, mol, nBq, ng, nmi, nmi2, oz av, oz t, p*km, p*mi, pg, pk, pt (Imp), pt (US dry), pt (US fl), qt (US dry), qt (US liq), s, sFr, sh tn, t, t*a, t*d, t*km, t*mi, t*nmi, u, ug, ul, v*km, yd, yd2, yd3, µBq\n",
      "    ```\n",
      "\n",
      "    Which of these units does source unit: `kg N` correspond to?\n",
      "\n",
      "    The output should be formatted as a JSON instance that conforms to the JSON schema below.\n",
      "\n",
      "As an example, for the schema {\"properties\": {\"foo\": {\"title\": \"Foo\", \"description\": \"a list of strings\", \"type\": \"array\", \"items\": {\"type\": \"string\"}}}, \"required\": [\"foo\"]}\n",
      "the object {\"foo\": [\"bar\", \"baz\"]} is a well-formatted instance of the schema. The object {\"properties\": {\"foo\": [\"bar\", \"baz\"]}} is not well-formatted.\n",
      "\n",
      "Here is the output schema:\n",
      "```\n",
      "{\"title\": \"UnitResponse2\", \"type\": \"object\", \"properties\": {\"source_unit\": {\"default\": \"the source unit\", \"type\": \"string\"}, \"allowed_unit\": {\"default\": \"the allowed unit\", \"type\": \"string\"}, \"conversion_factor\": {\"default\": \"the conversion factor from the provided unit to the mapped unit one\", \"type\": \"integer\"}}}\n",
      "```\n",
      "    \n",
      "Output: {\"source_unit\": \"kg N\", \"allowed_unit\": \"kg\", \"conversion_factor\": 1}\n"
     ]
    },
    {
     "data": {
      "text/plain": [
       "{'source_unit': 'kg N', 'allowed_unit': 'kg', 'conversion_factor': 1}"
      ]
     },
     "execution_count": 33,
     "metadata": {},
     "output_type": "execute_result"
    }
   ],
   "source": [
    "map_unit_8(\"kg N\", units_set)"
   ]
  },
  {
   "cell_type": "code",
   "execution_count": 34,
   "id": "98d3cc10-6536-486e-8111-1c841003fa42",
   "metadata": {},
   "outputs": [],
   "source": [
    "def map_unit_9(source_unit: str, units_set: Set[str]) -> str:\n",
    "    sorted_units = list(sorted(units_set))\n",
    "\n",
    "    response_formatter = PYDANTIC_FORMAT_INSTRUCTIONS.format(\n",
    "        schema=describe_pydantic_schema_as_str(UnitResponse2)\n",
    "    )\n",
    "    \n",
    "    prompt = f\"\"\"\n",
    "    Between the backticks is an exhaustive list of allowed units:\n",
    "    \n",
    "    ```\n",
    "    {', '.join(sorted_units)}\n",
    "    ```\n",
    "\n",
    "    Which of these units does source unit: `{source_unit}` correspond to?\n",
    "\n",
    "    {response_formatter}\n",
    "    Also, provide a detailed explanation.\n",
    "    \"\"\"\n",
    "\n",
    "    print(f\"The prompt is: {prompt}\")\n",
    "    \n",
    "    response = openai.ChatCompletion.create(\n",
    "        model=\"gpt-3.5-turbo\",\n",
    "        messages=[\n",
    "            {\"role\": \"system\", \"content\": \"You are a helpful assistant.\"},\n",
    "            {\"role\": \"user\", \"content\": prompt},\n",
    "        ],\n",
    "        temperature=0\n",
    "    )\n",
    "    output_json_str = response[\"choices\"][0][\"message\"][\"content\"]\n",
    "    print(f\"Output: {output_json_str}\")\n",
    "\n",
    "    parsed_output = json.loads(output_json_str)\n",
    "\n",
    "    assert UnitResponse2.parse_obj(parsed_output)\n",
    "    \n",
    "    return parsed_output"
   ]
  },
  {
   "cell_type": "code",
   "execution_count": 35,
   "id": "caffed4b-c5f0-42f8-afa6-d657936537c3",
   "metadata": {},
   "outputs": [
    {
     "name": "stdout",
     "output_type": "stream",
     "text": [
      "The prompt is: \n",
      "    Between the backticks is an exhaustive list of allowed units:\n",
      "    \n",
      "    ```\n",
      "    $, (cmol*m2)/kg, (cmol*m2*a)/kg, (mm*m2)/a, AUD 2000, Bq, CAD 2000, CHF 2000, CHF 2005, CZK 2000, Ci, DKK 2000, Dozen(s), EEK 2000, EUR, EUR 2000, EUR 2003, GBP 2000, GJ, HUF 2000, ISK 2000, Item(s), Items*a, Items*km, Items*mi, Items*nmi, J, JPY 2000, KRW 2000, LTL 2000, LVL 2000, M$ 2000, MJ, MJ/kg*d, MWh, Mg, Mt, NOK 2000, Nm3, PJ, Rutherford, SEK 2000, TCE, TJ, TOE, UBP, US fl oz, USD 2000, USD 2002, Wh, Yen, ZAR 2000, a, ac, bbl, bl (Imp), bl (US beer), bl (US dry), bl (US fl), bsh (Imp), bsh (US), btu, cg, ch, cl, cm, cm*m2/d, cm*m3, cm2, cm2a, cm3, cm3*a, ct, cu ft, cwt, d, dag, dal, dam, dg, dl, dm, dm2, dm3, dr (Av), dr (Fl), dwt, fl oz (Imp), ft, ft2, ft2*a, ftm, fur, g, g*a, gal (Imp), gal (US dry), gal (US fl), gal (US liq), gill, gr, h, ha, ha*a, hg, hl, hm, in, in2, in3, kBq, kJ, kWh, kWh/m2*d, kcal, kg, kg CO2-Equiv., kg DCB-Equiv., kg Ethene-Equiv., kg Phosphate-Equiv., kg R11-Equiv., kg SO2-Equiv., kg SWU, kg Sb-Equiv., kg*a, kg*d, kg*km, kg/a, km, km*a, km2, km2*a, kt, kt*km, l, l*a, l*d, l*km, l*mi, l*nmi, lb av, lb*mi, lb*nmi, long tn, m, m*a, m2, m2 yr eq organic arable land, m2*a, m2*d, m3, m3*a, m3*d, m3*km, m3*mi, m3*nmi, mBq, mg, mi, mi*a, mi2, mi2*a, min, ml, mm, mm*m2, mm2, mm2a, mm3, mol, nBq, ng, nmi, nmi2, oz av, oz t, p*km, p*mi, pg, pk, pt (Imp), pt (US dry), pt (US fl), qt (US dry), qt (US liq), s, sFr, sh tn, t, t*a, t*d, t*km, t*mi, t*nmi, u, ug, ul, v*km, yd, yd2, yd3, µBq\n",
      "    ```\n",
      "\n",
      "    Which of these units does source unit: `kg N` correspond to?\n",
      "\n",
      "    The output should be formatted as a JSON instance that conforms to the JSON schema below.\n",
      "\n",
      "As an example, for the schema {\"properties\": {\"foo\": {\"title\": \"Foo\", \"description\": \"a list of strings\", \"type\": \"array\", \"items\": {\"type\": \"string\"}}}, \"required\": [\"foo\"]}\n",
      "the object {\"foo\": [\"bar\", \"baz\"]} is a well-formatted instance of the schema. The object {\"properties\": {\"foo\": [\"bar\", \"baz\"]}} is not well-formatted.\n",
      "\n",
      "Here is the output schema:\n",
      "```\n",
      "{\"title\": \"UnitResponse2\", \"type\": \"object\", \"properties\": {\"source_unit\": {\"default\": \"the source unit\", \"type\": \"string\"}, \"allowed_unit\": {\"default\": \"the allowed unit\", \"type\": \"string\"}, \"conversion_factor\": {\"default\": \"the conversion factor from the provided unit to the mapped unit one\", \"type\": \"integer\"}}}\n",
      "```\n",
      "    Also, provide a detailed explanation.\n",
      "    \n",
      "Output: {\n",
      "  \"source_unit\": \"kg N\",\n",
      "  \"allowed_unit\": \"kg\",\n",
      "  \"conversion_factor\": 1\n",
      "}\n",
      "\n",
      "Explanation:\n",
      "The source unit \"kg N\" corresponds to the allowed unit \"kg\". The conversion factor from the provided unit to the mapped unit is 1, meaning that 1 kg N is equal to 1 kg.\n"
     ]
    },
    {
     "ename": "JSONDecodeError",
     "evalue": "Extra data: line 7 column 1 (char 79)",
     "output_type": "error",
     "traceback": [
      "\u001b[0;31m---------------------------------------------------------------------------\u001b[0m",
      "\u001b[0;31mJSONDecodeError\u001b[0m                           Traceback (most recent call last)",
      "Cell \u001b[0;32mIn[35], line 1\u001b[0m\n\u001b[0;32m----> 1\u001b[0m \u001b[43mmap_unit_9\u001b[49m\u001b[43m(\u001b[49m\u001b[38;5;124;43m\"\u001b[39;49m\u001b[38;5;124;43mkg N\u001b[39;49m\u001b[38;5;124;43m\"\u001b[39;49m\u001b[43m,\u001b[49m\u001b[43m \u001b[49m\u001b[43munits_set\u001b[49m\u001b[43m)\u001b[49m\n",
      "Cell \u001b[0;32mIn[34], line 34\u001b[0m, in \u001b[0;36mmap_unit_9\u001b[0;34m(source_unit, units_set)\u001b[0m\n\u001b[1;32m     31\u001b[0m output_json_str \u001b[38;5;241m=\u001b[39m response[\u001b[38;5;124m\"\u001b[39m\u001b[38;5;124mchoices\u001b[39m\u001b[38;5;124m\"\u001b[39m][\u001b[38;5;241m0\u001b[39m][\u001b[38;5;124m\"\u001b[39m\u001b[38;5;124mmessage\u001b[39m\u001b[38;5;124m\"\u001b[39m][\u001b[38;5;124m\"\u001b[39m\u001b[38;5;124mcontent\u001b[39m\u001b[38;5;124m\"\u001b[39m]\n\u001b[1;32m     32\u001b[0m \u001b[38;5;28mprint\u001b[39m(\u001b[38;5;124mf\u001b[39m\u001b[38;5;124m\"\u001b[39m\u001b[38;5;124mOutput: \u001b[39m\u001b[38;5;132;01m{\u001b[39;00moutput_json_str\u001b[38;5;132;01m}\u001b[39;00m\u001b[38;5;124m\"\u001b[39m)\n\u001b[0;32m---> 34\u001b[0m parsed_output \u001b[38;5;241m=\u001b[39m \u001b[43mjson\u001b[49m\u001b[38;5;241;43m.\u001b[39;49m\u001b[43mloads\u001b[49m\u001b[43m(\u001b[49m\u001b[43moutput_json_str\u001b[49m\u001b[43m)\u001b[49m\n\u001b[1;32m     36\u001b[0m \u001b[38;5;28;01massert\u001b[39;00m UnitResponse2\u001b[38;5;241m.\u001b[39mparse_obj(parsed_output)\n\u001b[1;32m     38\u001b[0m \u001b[38;5;28;01mreturn\u001b[39;00m parsed_output\n",
      "File \u001b[0;32m/usr/lib/python3.11/json/__init__.py:346\u001b[0m, in \u001b[0;36mloads\u001b[0;34m(s, cls, object_hook, parse_float, parse_int, parse_constant, object_pairs_hook, **kw)\u001b[0m\n\u001b[1;32m    341\u001b[0m     s \u001b[38;5;241m=\u001b[39m s\u001b[38;5;241m.\u001b[39mdecode(detect_encoding(s), \u001b[38;5;124m'\u001b[39m\u001b[38;5;124msurrogatepass\u001b[39m\u001b[38;5;124m'\u001b[39m)\n\u001b[1;32m    343\u001b[0m \u001b[38;5;28;01mif\u001b[39;00m (\u001b[38;5;28mcls\u001b[39m \u001b[38;5;129;01mis\u001b[39;00m \u001b[38;5;28;01mNone\u001b[39;00m \u001b[38;5;129;01mand\u001b[39;00m object_hook \u001b[38;5;129;01mis\u001b[39;00m \u001b[38;5;28;01mNone\u001b[39;00m \u001b[38;5;129;01mand\u001b[39;00m\n\u001b[1;32m    344\u001b[0m         parse_int \u001b[38;5;129;01mis\u001b[39;00m \u001b[38;5;28;01mNone\u001b[39;00m \u001b[38;5;129;01mand\u001b[39;00m parse_float \u001b[38;5;129;01mis\u001b[39;00m \u001b[38;5;28;01mNone\u001b[39;00m \u001b[38;5;129;01mand\u001b[39;00m\n\u001b[1;32m    345\u001b[0m         parse_constant \u001b[38;5;129;01mis\u001b[39;00m \u001b[38;5;28;01mNone\u001b[39;00m \u001b[38;5;129;01mand\u001b[39;00m object_pairs_hook \u001b[38;5;129;01mis\u001b[39;00m \u001b[38;5;28;01mNone\u001b[39;00m \u001b[38;5;129;01mand\u001b[39;00m \u001b[38;5;129;01mnot\u001b[39;00m kw):\n\u001b[0;32m--> 346\u001b[0m     \u001b[38;5;28;01mreturn\u001b[39;00m \u001b[43m_default_decoder\u001b[49m\u001b[38;5;241;43m.\u001b[39;49m\u001b[43mdecode\u001b[49m\u001b[43m(\u001b[49m\u001b[43ms\u001b[49m\u001b[43m)\u001b[49m\n\u001b[1;32m    347\u001b[0m \u001b[38;5;28;01mif\u001b[39;00m \u001b[38;5;28mcls\u001b[39m \u001b[38;5;129;01mis\u001b[39;00m \u001b[38;5;28;01mNone\u001b[39;00m:\n\u001b[1;32m    348\u001b[0m     \u001b[38;5;28mcls\u001b[39m \u001b[38;5;241m=\u001b[39m JSONDecoder\n",
      "File \u001b[0;32m/usr/lib/python3.11/json/decoder.py:340\u001b[0m, in \u001b[0;36mJSONDecoder.decode\u001b[0;34m(self, s, _w)\u001b[0m\n\u001b[1;32m    338\u001b[0m end \u001b[38;5;241m=\u001b[39m _w(s, end)\u001b[38;5;241m.\u001b[39mend()\n\u001b[1;32m    339\u001b[0m \u001b[38;5;28;01mif\u001b[39;00m end \u001b[38;5;241m!=\u001b[39m \u001b[38;5;28mlen\u001b[39m(s):\n\u001b[0;32m--> 340\u001b[0m     \u001b[38;5;28;01mraise\u001b[39;00m JSONDecodeError(\u001b[38;5;124m\"\u001b[39m\u001b[38;5;124mExtra data\u001b[39m\u001b[38;5;124m\"\u001b[39m, s, end)\n\u001b[1;32m    341\u001b[0m \u001b[38;5;28;01mreturn\u001b[39;00m obj\n",
      "\u001b[0;31mJSONDecodeError\u001b[0m: Extra data: line 7 column 1 (char 79)"
     ]
    }
   ],
   "source": [
    "map_unit_9(\"kg N\", units_set)"
   ]
  },
  {
   "cell_type": "markdown",
   "id": "2f8d5bdd-116b-469b-9edc-7d8a79d17671",
   "metadata": {},
   "source": [
    "### Too brittle! How do we fix this?\n",
    "\n",
    "<details>\n",
    "    <summary><b>Answer</b></summary>\n",
    "    - Add a regex to parse JSON output out of the text response\n",
    "</details>"
   ]
  },
  {
   "cell_type": "code",
   "execution_count": 36,
   "id": "3657e8f3-b84a-4c78-bcb2-0f8d373415e1",
   "metadata": {},
   "outputs": [],
   "source": [
    "import re\n",
    "\n",
    "def extract_json(text: str):\n",
    "    match = re.search(r\"\\{.*\\}\", text.strip(), re.MULTILINE | re.IGNORECASE | re.DOTALL)\n",
    "    if not match:\n",
    "        return None\n",
    "\n",
    "    json_str = match.group()\n",
    "    return json_str\n",
    "\n",
    "def map_unit_10(source_unit: str, units_set: Set[str]) -> str:\n",
    "    sorted_units = list(sorted(units_set))\n",
    "\n",
    "    response_formatter = PYDANTIC_FORMAT_INSTRUCTIONS.format(\n",
    "        schema=describe_pydantic_schema_as_str(UnitResponse2)\n",
    "    )\n",
    "    \n",
    "    prompt = f\"\"\"\n",
    "    Between the backticks is an exhaustive list of allowed units:\n",
    "    \n",
    "    ```\n",
    "    {', '.join(sorted_units)}\n",
    "    ```\n",
    "\n",
    "    Which of these units does source unit: `{source_unit}` correspond to?\n",
    "\n",
    "    {response_formatter}\n",
    "    Also, provide a detailed explanation.\n",
    "    \"\"\"\n",
    "\n",
    "    print(f\"The prompt is: {prompt}\")\n",
    "    \n",
    "    response = openai.ChatCompletion.create(\n",
    "        model=\"gpt-3.5-turbo\",\n",
    "        messages=[\n",
    "            {\"role\": \"system\", \"content\": \"You are a helpful assistant.\"},\n",
    "            {\"role\": \"user\", \"content\": prompt},\n",
    "        ],\n",
    "        temperature=0\n",
    "    )\n",
    "    output_str = response[\"choices\"][0][\"message\"][\"content\"]\n",
    "    print(f\"Output: {output_str}\")\n",
    "    \n",
    "    output_json_str = extract_json(output_str)\n",
    "    print(f\"Output JSON: {output_str}\")\n",
    "\n",
    "    parsed_output = json.loads(output_json_str)\n",
    "\n",
    "    assert UnitResponse2.parse_obj(parsed_output)\n",
    "    \n",
    "    return parsed_output"
   ]
  },
  {
   "cell_type": "code",
   "execution_count": null,
   "id": "2ca68646-821c-4eb9-ba14-34200fe6f53a",
   "metadata": {},
   "outputs": [
    {
     "name": "stdout",
     "output_type": "stream",
     "text": [
      "The prompt is: \n",
      "    Between the backticks is an exhaustive list of allowed units:\n",
      "    \n",
      "    ```\n",
      "    $, (cmol*m2)/kg, (cmol*m2*a)/kg, (mm*m2)/a, AUD 2000, Bq, CAD 2000, CHF 2000, CHF 2005, CZK 2000, Ci, DKK 2000, Dozen(s), EEK 2000, EUR, EUR 2000, EUR 2003, GBP 2000, GJ, HUF 2000, ISK 2000, Item(s), Items*a, Items*km, Items*mi, Items*nmi, J, JPY 2000, KRW 2000, LTL 2000, LVL 2000, M$ 2000, MJ, MJ/kg*d, MWh, Mg, Mt, NOK 2000, Nm3, PJ, Rutherford, SEK 2000, TCE, TJ, TOE, UBP, US fl oz, USD 2000, USD 2002, Wh, Yen, ZAR 2000, a, ac, bbl, bl (Imp), bl (US beer), bl (US dry), bl (US fl), bsh (Imp), bsh (US), btu, cg, ch, cl, cm, cm*m2/d, cm*m3, cm2, cm2a, cm3, cm3*a, ct, cu ft, cwt, d, dag, dal, dam, dg, dl, dm, dm2, dm3, dr (Av), dr (Fl), dwt, fl oz (Imp), ft, ft2, ft2*a, ftm, fur, g, g*a, gal (Imp), gal (US dry), gal (US fl), gal (US liq), gill, gr, h, ha, ha*a, hg, hl, hm, in, in2, in3, kBq, kJ, kWh, kWh/m2*d, kcal, kg, kg CO2-Equiv., kg DCB-Equiv., kg Ethene-Equiv., kg Phosphate-Equiv., kg R11-Equiv., kg SO2-Equiv., kg SWU, kg Sb-Equiv., kg*a, kg*d, kg*km, kg/a, km, km*a, km2, km2*a, kt, kt*km, l, l*a, l*d, l*km, l*mi, l*nmi, lb av, lb*mi, lb*nmi, long tn, m, m*a, m2, m2 yr eq organic arable land, m2*a, m2*d, m3, m3*a, m3*d, m3*km, m3*mi, m3*nmi, mBq, mg, mi, mi*a, mi2, mi2*a, min, ml, mm, mm*m2, mm2, mm2a, mm3, mol, nBq, ng, nmi, nmi2, oz av, oz t, p*km, p*mi, pg, pk, pt (Imp), pt (US dry), pt (US fl), qt (US dry), qt (US liq), s, sFr, sh tn, t, t*a, t*d, t*km, t*mi, t*nmi, u, ug, ul, v*km, yd, yd2, yd3, µBq\n",
      "    ```\n",
      "\n",
      "    Which of these units does source unit: `kg N` correspond to?\n",
      "\n",
      "    The output should be formatted as a JSON instance that conforms to the JSON schema below.\n",
      "\n",
      "As an example, for the schema {\"properties\": {\"foo\": {\"title\": \"Foo\", \"description\": \"a list of strings\", \"type\": \"array\", \"items\": {\"type\": \"string\"}}}, \"required\": [\"foo\"]}\n",
      "the object {\"foo\": [\"bar\", \"baz\"]} is a well-formatted instance of the schema. The object {\"properties\": {\"foo\": [\"bar\", \"baz\"]}} is not well-formatted.\n",
      "\n",
      "Here is the output schema:\n",
      "```\n",
      "{\"title\": \"UnitResponse2\", \"type\": \"object\", \"properties\": {\"source_unit\": {\"default\": \"the source unit\", \"type\": \"string\"}, \"allowed_unit\": {\"default\": \"the allowed unit\", \"type\": \"string\"}, \"conversion_factor\": {\"default\": \"the conversion factor from the provided unit to the mapped unit one\", \"type\": \"integer\"}}}\n",
      "```\n",
      "    Also, provide a detailed explanation.\n",
      "    \n"
     ]
    }
   ],
   "source": [
    "map_unit_10(\"kg N\", units_set)"
   ]
  },
  {
   "cell_type": "markdown",
   "id": "b2206df2-a9af-4ee2-8135-d5d1fec25772",
   "metadata": {},
   "source": [
    "## What we built is a \"chain\"\n",
    "\n",
    "See [Langchain chains](https://python.langchain.com/docs/modules/chains/)\n",
    "\n",
    "The chain was:\n",
    "\n",
    "- Prompt\n",
    "- Input variables: \"the unit\" and the \"allowed units\"\n",
    "- Structure that must be present in the output: the Pydantic format\n",
    "- Output parsing: regex + Pydantic validation"
   ]
  }
 ],
 "metadata": {
  "kernelspec": {
   "display_name": "Python 3 (ipykernel)",
   "language": "python",
   "name": "python3"
  },
  "language_info": {
   "codemirror_mode": {
    "name": "ipython",
    "version": 3
   },
   "file_extension": ".py",
   "mimetype": "text/x-python",
   "name": "python",
   "nbconvert_exporter": "python",
   "pygments_lexer": "ipython3",
   "version": "3.11.5"
  }
 },
 "nbformat": 4,
 "nbformat_minor": 5
}
