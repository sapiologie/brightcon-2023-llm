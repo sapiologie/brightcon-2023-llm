{
 "cells": [
  {
   "cell_type": "markdown",
   "id": "d05b448b-326c-4ff0-9b06-39c15602a86d",
   "metadata": {},
   "source": [
    "# Leveraging large language models and vector databases for exploring life cycle inventory databases"
   ]
  },
  {
   "cell_type": "markdown",
   "id": "a4e6f2a5-e62d-424e-b944-0a326c04c7e7",
   "metadata": {},
   "source": [
    "## ChatGPT\n",
    "\n",
    "Let's run a simple query.\n",
    "For that, open [OpenAI Chat](https://chat.openai.com/), sign up/sign in, and create a new chat (it's free)."
   ]
  },
  {
   "cell_type": "markdown",
   "id": "81c95973-62ca-4ecb-94c6-fa6dc53266ac",
   "metadata": {},
   "source": [
    "![ChatGPT: What is Ecoinvent?](chatgpt-1.png)"
   ]
  },
  {
   "cell_type": "markdown",
   "id": "5043dea2-ecea-4ae6-a4ca-cdc1f88bd4d6",
   "metadata": {},
   "source": [
    "ChatGPT knows about Ecoinvent, great! The answer seems pretty satisfactory. Let's continue the conversation."
   ]
  },
  {
   "cell_type": "markdown",
   "id": "accd47ba-52eb-46d1-99c7-369041592e6d",
   "metadata": {},
   "source": [
    "![ChatGPT: Cool, where is it located?](chatgpt-2.png)"
   ]
  },
  {
   "cell_type": "markdown",
   "id": "9363cd17-7ecf-44e7-add1-66beb187785f",
   "metadata": {},
   "source": [
    "### What is special about this query?\n",
    "\n",
    "<details>\n",
    "  \n",
    "<summary><b>Answer</b></summary>\n",
    "This seems stateful, as if ChatGPT keeps a session of my conversation, as I used \"it\".\n",
    "The context must be shomehow saved.\n",
    "\r\n",
    "</details>\r\n"
   ]
  },
  {
   "cell_type": "markdown",
   "id": "40b7e2a4-76c4-427b-b38e-fddca1e9378d",
   "metadata": {},
   "source": [
    "### Now, how popular is Brightcon?"
   ]
  },
  {
   "cell_type": "markdown",
   "id": "e71796f4-bf3e-4152-bca8-2c3b73e5ebcc",
   "metadata": {},
   "source": [
    "![ChatGPT: what is Brightcon?](chatgpt-3.png)"
   ]
  },
  {
   "cell_type": "markdown",
   "id": "c13ee7d8-a3bb-4a0c-94f3-aa876388b6a9",
   "metadata": {},
   "source": [
    "Sadly, it does not know. A first question then comes to mind:\n",
    "\n",
    "### How do we teach ChatGPT / LLMs in general new knowledge? How would you do it with a \"traditional ML model\"?\n",
    "\n",
    "<details>\n",
    "  \n",
    "<summary><b>Answer</b></summary>\n",
    "<b>Fine-tuning</b>. Take the model and train on top of it.\n",
    "\n",
    "But as of only very recently, ChatGPT offers fine-tuning capability. Regardless, this is quite hard and not the first solution that should come to mind.\n",
    "</details>\n"
   ]
  },
  {
   "cell_type": "markdown",
   "id": "bb83c62c-91fb-404c-b3bd-89e5a18f44c9",
   "metadata": {},
   "source": [
    "### Let's feed ChatGPT with a little extra information\n",
    "\n",
    "We do a quick Google search for recent LCA conferences, paste a few summaries in the prompt, and try again\n",
    "\n",
    "![ChatGPT: now with context, what is Brightcon?](chatgpt-4.png)"
   ]
  }
 ],
 "metadata": {
  "kernelspec": {
   "display_name": "Python 3 (ipykernel)",
   "language": "python",
   "name": "python3"
  },
  "language_info": {
   "codemirror_mode": {
    "name": "ipython",
    "version": 3
   },
   "file_extension": ".py",
   "mimetype": "text/x-python",
   "name": "python",
   "nbconvert_exporter": "python",
   "pygments_lexer": "ipython3",
   "version": "3.11.5"
  }
 },
 "nbformat": 4,
 "nbformat_minor": 5
}
